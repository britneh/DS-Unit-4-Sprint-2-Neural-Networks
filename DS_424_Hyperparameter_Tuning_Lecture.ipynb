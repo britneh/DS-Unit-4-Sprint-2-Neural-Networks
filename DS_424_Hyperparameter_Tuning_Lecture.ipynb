{
  "nbformat": 4,
  "nbformat_minor": 0,
  "metadata": {
    "kernelspec": {
      "display_name": "U4-S2-NNF-DS12",
      "language": "python",
      "name": "u4-s2-nnf-ds12"
    },
    "language_info": {
      "codemirror_mode": {
        "name": "ipython",
        "version": 3
      },
      "file_extension": ".py",
      "mimetype": "text/x-python",
      "name": "python",
      "nbconvert_exporter": "python",
      "pygments_lexer": "ipython3",
      "version": "3.7.7"
    },
    "colab": {
      "name": "DS_424_Hyperparameter_Tuning_Lecture.ipynb",
      "provenance": [],
      "include_colab_link": true
    },
    "accelerator": "GPU"
  },
  "cells": [
    {
      "cell_type": "markdown",
      "metadata": {
        "id": "view-in-github",
        "colab_type": "text"
      },
      "source": [
        "<a href=\"https://colab.research.google.com/github/britneh/DS-Unit-4-Sprint-2-Neural-Networks/blob/main/DS_424_Hyperparameter_Tuning_Lecture.ipynb\" target=\"_parent\"><img src=\"https://colab.research.google.com/assets/colab-badge.svg\" alt=\"Open In Colab\"/></a>"
      ]
    },
    {
      "cell_type": "markdown",
      "metadata": {
        "colab_type": "text",
        "id": "41TS0Sa0rDNx"
      },
      "source": [
        "Lambda School Data Science\n",
        "\n",
        "*Unit 4, Sprint 2, Module 4*\n",
        "\n",
        "---"
      ]
    },
    {
      "cell_type": "markdown",
      "metadata": {
        "colab_type": "text",
        "id": "psMEdaJgehej"
      },
      "source": [
        "# Neural Networks & GPUs (Prepare)\n",
        "*aka Hyperparameter Tuning*\n",
        "\n",
        "*aka Big Servers for Big Problems*"
      ]
    },
    {
      "cell_type": "markdown",
      "metadata": {
        "colab_type": "text",
        "id": "NUNmH5Weehej"
      },
      "source": [
        "## Learning Objectives\n",
        "* <a href=\"#p1\">Part 1</a>: Describe the major hyperparemeters to tune\n",
        "* <a href=\"#p2\">Part 2</a>: Implement an experiment tracking framework\n",
        "* <a href=\"#p3\">Part 3</a>: Search the hyperparameter space using RandomSearch (Optional)"
      ]
    },
    {
      "cell_type": "code",
      "metadata": {
        "id": "jztOihvSehek",
        "colab_type": "code",
        "colab": {
          "base_uri": "https://localhost:8080/",
          "height": 442
        },
        "outputId": "176f47a5-95b2-4cd4-9453-6c88b08b48bc"
      },
      "source": [
        "!pip install wandb\n",
        "wandb_group = \"ds8\"\n",
        "wandb_project = \"ds15-inclass\""
      ],
      "execution_count": null,
      "outputs": [
        {
          "output_type": "stream",
          "text": [
            "Requirement already satisfied: wandb in /usr/local/lib/python3.6/dist-packages (0.9.3)\n",
            "Requirement already satisfied: docker-pycreds>=0.4.0 in /usr/local/lib/python3.6/dist-packages (from wandb) (0.4.0)\n",
            "Requirement already satisfied: Click>=7.0 in /usr/local/lib/python3.6/dist-packages (from wandb) (7.1.2)\n",
            "Requirement already satisfied: requests>=2.0.0 in /usr/local/lib/python3.6/dist-packages (from wandb) (2.23.0)\n",
            "Requirement already satisfied: gql==0.2.0 in /usr/local/lib/python3.6/dist-packages (from wandb) (0.2.0)\n",
            "Requirement already satisfied: shortuuid>=0.5.0 in /usr/local/lib/python3.6/dist-packages (from wandb) (1.0.1)\n",
            "Requirement already satisfied: python-dateutil>=2.6.1 in /usr/local/lib/python3.6/dist-packages (from wandb) (2.8.1)\n",
            "Requirement already satisfied: psutil>=5.0.0 in /usr/local/lib/python3.6/dist-packages (from wandb) (5.4.8)\n",
            "Requirement already satisfied: sentry-sdk>=0.4.0 in /usr/local/lib/python3.6/dist-packages (from wandb) (0.16.1)\n",
            "Requirement already satisfied: configparser>=3.8.1 in /usr/local/lib/python3.6/dist-packages (from wandb) (5.0.0)\n",
            "Requirement already satisfied: GitPython>=1.0.0 in /usr/local/lib/python3.6/dist-packages (from wandb) (3.1.7)\n",
            "Requirement already satisfied: subprocess32>=3.5.3 in /usr/local/lib/python3.6/dist-packages (from wandb) (3.5.4)\n",
            "Requirement already satisfied: nvidia-ml-py3>=7.352.0 in /usr/local/lib/python3.6/dist-packages (from wandb) (7.352.0)\n",
            "Requirement already satisfied: six>=1.10.0 in /usr/local/lib/python3.6/dist-packages (from wandb) (1.12.0)\n",
            "Requirement already satisfied: watchdog>=0.8.3 in /usr/local/lib/python3.6/dist-packages (from wandb) (0.10.3)\n",
            "Requirement already satisfied: PyYAML>=3.10 in /usr/local/lib/python3.6/dist-packages (from wandb) (3.13)\n",
            "Requirement already satisfied: idna<3,>=2.5 in /usr/local/lib/python3.6/dist-packages (from requests>=2.0.0->wandb) (2.10)\n",
            "Requirement already satisfied: certifi>=2017.4.17 in /usr/local/lib/python3.6/dist-packages (from requests>=2.0.0->wandb) (2020.6.20)\n",
            "Requirement already satisfied: chardet<4,>=3.0.2 in /usr/local/lib/python3.6/dist-packages (from requests>=2.0.0->wandb) (3.0.4)\n",
            "Requirement already satisfied: urllib3!=1.25.0,!=1.25.1,<1.26,>=1.21.1 in /usr/local/lib/python3.6/dist-packages (from requests>=2.0.0->wandb) (1.24.3)\n",
            "Requirement already satisfied: promise<3,>=2.0 in /usr/local/lib/python3.6/dist-packages (from gql==0.2.0->wandb) (2.3)\n",
            "Requirement already satisfied: graphql-core<2,>=0.5.0 in /usr/local/lib/python3.6/dist-packages (from gql==0.2.0->wandb) (1.1)\n",
            "Requirement already satisfied: gitdb<5,>=4.0.1 in /usr/local/lib/python3.6/dist-packages (from GitPython>=1.0.0->wandb) (4.0.5)\n",
            "Requirement already satisfied: pathtools>=0.1.1 in /usr/local/lib/python3.6/dist-packages (from watchdog>=0.8.3->wandb) (0.1.2)\n",
            "Requirement already satisfied: smmap<4,>=3.0.1 in /usr/local/lib/python3.6/dist-packages (from gitdb<5,>=4.0.1->GitPython>=1.0.0->wandb) (3.0.4)\n"
          ],
          "name": "stdout"
        }
      ]
    },
    {
      "cell_type": "code",
      "metadata": {
        "id": "IRw19UykfPrV",
        "colab_type": "code",
        "colab": {
          "base_uri": "https://localhost:8080/",
          "height": 187
        },
        "outputId": "b3db203b-55c0-4bd9-b26d-c5db4b88bc0e"
      },
      "source": [
        "!wandb login 9a1c22d488a1d07aeb712529bde1ed7ca89ab6b8"
      ],
      "execution_count": null,
      "outputs": [
        {
          "output_type": "stream",
          "text": [
            "\u001b[34m\u001b[1mwandb\u001b[0m: (1) Create a W&B account\n",
            "\u001b[34m\u001b[1mwandb\u001b[0m: (2) Use an existing W&B account\n",
            "\u001b[34m\u001b[1mwandb\u001b[0m: (3) Don't visualize my results\n",
            "\u001b[34m\u001b[1mwandb\u001b[0m: Enter your choice: 2\n",
            "\u001b[34m\u001b[1mwandb\u001b[0m: You chose 'Use an existing W&B account'\n",
            "\u001b[34m\u001b[1mwandb\u001b[0m: You can find your API key in your browser here: https://app.wandb.ai/authorize\n",
            "\u001b[34m\u001b[1mwandb\u001b[0m: Paste an API key from your profile and hit enter\n",
            "\u001b[34m\u001b[1mwandb\u001b[0m: Appending key for api.wandb.ai to your netrc file: /root/.netrc\n",
            "\u001b[34m\u001b[1mwandb\u001b[0m: Appending key for api.wandb.ai to your netrc file: /root/.netrc\n",
            "\u001b[32mSuccessfully logged in to Weights & Biases!\u001b[0m\n"
          ],
          "name": "stdout"
        }
      ]
    },
    {
      "cell_type": "markdown",
      "metadata": {
        "id": "1fKEvTTVehem",
        "colab_type": "text"
      },
      "source": [
        "# Hyperparameter Options (Learn)\n",
        "<a id=\"p1\"></a>"
      ]
    },
    {
      "cell_type": "markdown",
      "metadata": {
        "id": "QCtMuOUqehen",
        "colab_type": "text"
      },
      "source": [
        "## Overview\n",
        "\n",
        "Hyperparameter tuning is much more important with neural networks than it has been with any other models that we have considered up to this point. Other supervised learning models might have a couple of parameters, but neural networks can have dozens. These can substantially affect the accuracy of our models and although it can be a time consuming process is a necessary step when working with neural networks.\n",
        "​\n",
        "Hyperparameter tuning comes with a challenge. How can we compare models specified with different hyperparameters if our model's final error metric can vary somewhat erratically? How do we avoid just getting unlucky and selecting the wrong hyperparameter? This is a problem that to a certain degree we just have to live with as we test and test again. However, we can minimize it somewhat by pairing our experiments with Cross Validation to reduce the variance of our final accuracy values."
      ]
    },
    {
      "cell_type": "markdown",
      "metadata": {
        "colab_type": "text",
        "id": "0s0o2pqBs88q"
      },
      "source": [
        "### Load Boston Housing Data"
      ]
    },
    {
      "cell_type": "code",
      "metadata": {
        "id": "Jnt1IK4peheo",
        "colab_type": "code",
        "colab": {
          "base_uri": "https://localhost:8080/",
          "height": 51
        },
        "outputId": "713fa9a4-097a-476e-aef7-193a069c47af"
      },
      "source": [
        "from tensorflow.keras.datasets import boston_housing\n",
        "\n",
        "(x_train, y_train), (x_test, y_test) = boston_housing.load_data()"
      ],
      "execution_count": null,
      "outputs": [
        {
          "output_type": "stream",
          "text": [
            "Downloading data from https://storage.googleapis.com/tensorflow/tf-keras-datasets/boston_housing.npz\n",
            "57344/57026 [==============================] - 0s 0us/step\n"
          ],
          "name": "stdout"
        }
      ]
    },
    {
      "cell_type": "markdown",
      "metadata": {
        "colab_type": "text",
        "id": "Pm7zow5IvaTt"
      },
      "source": [
        "### Normalizing Input Data\n",
        "\n",
        "It's not 100% necessary to normalize/scale your input data before feeding it to a neural network, the network can learn the appropriate weights to deal with data of as long as it is numerically represented,  but it is recommended as it can help **make training faster** and **reduces the chances that gradient descent might get stuck in a local optimum**.\n",
        "\n",
        "<https://stackoverflow.com/questions/4674623/why-do-we-have-to-normalize-the-input-for-an-artificial-neural-network>"
      ]
    },
    {
      "cell_type": "code",
      "metadata": {
        "id": "59TxpM0xeher",
        "colab_type": "code",
        "colab": {}
      },
      "source": [
        "from sklearn.preprocessing import StandardScaler\n",
        "\n",
        "scaler = StandardScaler()\n",
        "\n",
        "x_train = scaler.fit_transform(x_train)\n",
        "x_test = scaler.transform(x_test)\n",
        "print(x_train[:10])"
      ],
      "execution_count": null,
      "outputs": []
    },
    {
      "cell_type": "markdown",
      "metadata": {
        "colab_type": "text",
        "id": "l6hgCWbir90R"
      },
      "source": [
        "### Model Validation using an automatic verification Dataset\n",
        "\n",
        "Instead of doing seperate train test split class, Keras has a really nice feature that you can set the validation.data argument when fitting your model and Keras will take that portion of your test data and use it as a validation dataset. "
      ]
    },
    {
      "cell_type": "code",
      "metadata": {
        "colab_type": "code",
        "id": "GMXVfmzXp1Oo",
        "colab": {
          "base_uri": "https://localhost:8080/",
          "height": 1000
        },
        "outputId": "3c4f57bc-86c5-41d8-c6f9-9dd9f665fb80"
      },
      "source": [
        "from tensorflow import keras\n",
        "from tensorflow.keras.models import Sequential\n",
        "from tensorflow.keras.layers import Dense\n",
        "\n",
        "# Important Hyperparameters\n",
        "inputs = x_train.shape[1]\n",
        "epochs = 75\n",
        "batch_size = 10\n",
        "\n",
        "\n",
        "# Create Model\n",
        "model = Sequential()\n",
        "model.add(Dense(64, activation='relu', input_shape=(inputs,)))\n",
        "model.add(Dense(64, activation='relu'))\n",
        "model.add(Dense(1))\n",
        "\n",
        "# Compile Model\n",
        "model.compile(optimizer='adam', loss='mse', metrics=['mse', 'mae'])\n",
        "\n",
        "# Fit Model\n",
        "model.fit(x_train, y_train, \n",
        "          validation_data=(x_test,y_test), \n",
        "          epochs=epochs, \n",
        "          batch_size=batch_size\n",
        "         )"
      ],
      "execution_count": null,
      "outputs": [
        {
          "output_type": "stream",
          "text": [
            "Epoch 1/75\n",
            "41/41 [==============================] - 0s 8ms/step - loss: 193.2737 - mse: 193.2737 - mae: 9.9015 - val_loss: 99.1845 - val_mse: 99.1845 - val_mae: 7.1290\n",
            "Epoch 2/75\n",
            "41/41 [==============================] - 0s 4ms/step - loss: 87.5406 - mse: 87.5406 - mae: 6.6224 - val_loss: 71.5779 - val_mse: 71.5779 - val_mae: 6.4932\n",
            "Epoch 3/75\n",
            "41/41 [==============================] - 0s 4ms/step - loss: 74.2319 - mse: 74.2319 - mae: 5.9764 - val_loss: 82.0946 - val_mse: 82.0946 - val_mae: 6.4171\n",
            "Epoch 4/75\n",
            "41/41 [==============================] - 0s 5ms/step - loss: 77.9776 - mse: 77.9776 - mae: 6.3762 - val_loss: 72.4640 - val_mse: 72.4640 - val_mae: 6.4952\n",
            "Epoch 5/75\n",
            "41/41 [==============================] - 0s 4ms/step - loss: 81.5621 - mse: 81.5621 - mae: 6.5826 - val_loss: 64.1826 - val_mse: 64.1826 - val_mae: 5.8244\n",
            "Epoch 6/75\n",
            "41/41 [==============================] - 0s 4ms/step - loss: 85.2504 - mse: 85.2504 - mae: 6.8287 - val_loss: 78.4975 - val_mse: 78.4975 - val_mae: 6.4329\n",
            "Epoch 7/75\n",
            "41/41 [==============================] - 0s 4ms/step - loss: 62.0261 - mse: 62.0261 - mae: 5.6205 - val_loss: 67.7675 - val_mse: 67.7675 - val_mae: 5.8352\n",
            "Epoch 8/75\n",
            "41/41 [==============================] - 0s 4ms/step - loss: 59.0712 - mse: 59.0712 - mae: 5.4954 - val_loss: 57.1883 - val_mse: 57.1883 - val_mae: 5.3287\n",
            "Epoch 9/75\n",
            "41/41 [==============================] - 0s 6ms/step - loss: 53.2935 - mse: 53.2935 - mae: 4.8213 - val_loss: 92.3807 - val_mse: 92.3807 - val_mae: 8.0129\n",
            "Epoch 10/75\n",
            "41/41 [==============================] - 0s 4ms/step - loss: 65.3794 - mse: 65.3794 - mae: 5.7924 - val_loss: 55.5657 - val_mse: 55.5657 - val_mae: 5.1862\n",
            "Epoch 11/75\n",
            "41/41 [==============================] - 0s 4ms/step - loss: 53.8069 - mse: 53.8069 - mae: 5.1541 - val_loss: 72.8974 - val_mse: 72.8974 - val_mae: 6.3995\n",
            "Epoch 12/75\n",
            "41/41 [==============================] - 0s 4ms/step - loss: 54.5965 - mse: 54.5965 - mae: 5.2996 - val_loss: 54.7383 - val_mse: 54.7383 - val_mae: 5.8580\n",
            "Epoch 13/75\n",
            "41/41 [==============================] - 0s 4ms/step - loss: 46.2431 - mse: 46.2431 - mae: 4.8391 - val_loss: 46.1453 - val_mse: 46.1453 - val_mae: 4.6646\n",
            "Epoch 14/75\n",
            "41/41 [==============================] - 0s 4ms/step - loss: 51.4430 - mse: 51.4430 - mae: 5.1853 - val_loss: 50.0921 - val_mse: 50.0921 - val_mae: 5.3870\n",
            "Epoch 15/75\n",
            "41/41 [==============================] - 0s 4ms/step - loss: 42.1930 - mse: 42.1930 - mae: 4.6799 - val_loss: 50.4673 - val_mse: 50.4673 - val_mae: 5.0225\n",
            "Epoch 16/75\n",
            "41/41 [==============================] - 0s 4ms/step - loss: 54.6436 - mse: 54.6436 - mae: 5.4260 - val_loss: 99.0385 - val_mse: 99.0385 - val_mae: 9.0088\n",
            "Epoch 17/75\n",
            "41/41 [==============================] - 0s 4ms/step - loss: 50.5268 - mse: 50.5268 - mae: 5.1488 - val_loss: 42.7745 - val_mse: 42.7745 - val_mae: 5.0026\n",
            "Epoch 18/75\n",
            "41/41 [==============================] - 0s 5ms/step - loss: 60.6366 - mse: 60.6366 - mae: 6.0233 - val_loss: 56.6689 - val_mse: 56.6689 - val_mae: 5.5695\n",
            "Epoch 19/75\n",
            "41/41 [==============================] - 0s 4ms/step - loss: 39.4102 - mse: 39.4102 - mae: 4.4589 - val_loss: 37.2548 - val_mse: 37.2548 - val_mae: 4.2361\n",
            "Epoch 20/75\n",
            "41/41 [==============================] - 0s 4ms/step - loss: 40.0177 - mse: 40.0177 - mae: 4.5648 - val_loss: 41.5022 - val_mse: 41.5022 - val_mae: 4.4738\n",
            "Epoch 21/75\n",
            "41/41 [==============================] - 0s 4ms/step - loss: 35.4319 - mse: 35.4319 - mae: 4.1462 - val_loss: 37.4020 - val_mse: 37.4020 - val_mae: 4.5573\n",
            "Epoch 22/75\n",
            "41/41 [==============================] - 0s 4ms/step - loss: 32.6921 - mse: 32.6921 - mae: 3.9999 - val_loss: 43.9999 - val_mse: 43.9999 - val_mae: 5.2224\n",
            "Epoch 23/75\n",
            "41/41 [==============================] - 0s 4ms/step - loss: 33.2832 - mse: 33.2832 - mae: 4.1133 - val_loss: 36.8403 - val_mse: 36.8403 - val_mae: 4.1981\n",
            "Epoch 24/75\n",
            "41/41 [==============================] - 0s 4ms/step - loss: 34.7256 - mse: 34.7256 - mae: 4.1477 - val_loss: 47.7528 - val_mse: 47.7528 - val_mae: 5.3660\n",
            "Epoch 25/75\n",
            "41/41 [==============================] - 0s 4ms/step - loss: 32.0782 - mse: 32.0782 - mae: 4.0414 - val_loss: 45.4239 - val_mse: 45.4239 - val_mae: 4.8070\n",
            "Epoch 26/75\n",
            "41/41 [==============================] - 0s 5ms/step - loss: 36.7937 - mse: 36.7937 - mae: 4.3433 - val_loss: 36.2324 - val_mse: 36.2324 - val_mae: 4.1849\n",
            "Epoch 27/75\n",
            "41/41 [==============================] - 0s 4ms/step - loss: 31.1734 - mse: 31.1734 - mae: 3.8722 - val_loss: 31.9930 - val_mse: 31.9930 - val_mae: 4.0766\n",
            "Epoch 28/75\n",
            "41/41 [==============================] - 0s 4ms/step - loss: 35.7453 - mse: 35.7453 - mae: 4.4474 - val_loss: 30.6236 - val_mse: 30.6236 - val_mae: 3.9508\n",
            "Epoch 29/75\n",
            "41/41 [==============================] - 0s 4ms/step - loss: 33.2132 - mse: 33.2132 - mae: 4.1813 - val_loss: 30.6042 - val_mse: 30.6042 - val_mae: 4.0787\n",
            "Epoch 30/75\n",
            "41/41 [==============================] - 0s 4ms/step - loss: 29.6821 - mse: 29.6821 - mae: 3.7963 - val_loss: 53.1053 - val_mse: 53.1053 - val_mae: 6.2783\n",
            "Epoch 31/75\n",
            "41/41 [==============================] - 0s 5ms/step - loss: 36.3893 - mse: 36.3893 - mae: 4.5529 - val_loss: 47.0846 - val_mse: 47.0846 - val_mae: 5.1716\n",
            "Epoch 32/75\n",
            "41/41 [==============================] - 0s 4ms/step - loss: 34.3889 - mse: 34.3889 - mae: 4.3484 - val_loss: 38.3266 - val_mse: 38.3266 - val_mae: 4.3730\n",
            "Epoch 33/75\n",
            "41/41 [==============================] - 0s 4ms/step - loss: 33.3334 - mse: 33.3334 - mae: 4.3244 - val_loss: 39.6116 - val_mse: 39.6116 - val_mae: 5.0140\n",
            "Epoch 34/75\n",
            "41/41 [==============================] - 0s 5ms/step - loss: 35.9643 - mse: 35.9643 - mae: 4.3359 - val_loss: 49.8528 - val_mse: 49.8528 - val_mae: 5.5679\n",
            "Epoch 35/75\n",
            "41/41 [==============================] - 0s 4ms/step - loss: 49.2683 - mse: 49.2683 - mae: 5.4042 - val_loss: 74.4058 - val_mse: 74.4058 - val_mae: 6.9697\n",
            "Epoch 36/75\n",
            "41/41 [==============================] - 0s 5ms/step - loss: 32.2804 - mse: 32.2804 - mae: 4.2568 - val_loss: 53.0948 - val_mse: 53.0948 - val_mae: 6.2462\n",
            "Epoch 37/75\n",
            "41/41 [==============================] - 0s 5ms/step - loss: 30.0637 - mse: 30.0637 - mae: 3.9538 - val_loss: 41.3985 - val_mse: 41.3985 - val_mae: 5.3471\n",
            "Epoch 38/75\n",
            "41/41 [==============================] - 0s 4ms/step - loss: 32.2186 - mse: 32.2186 - mae: 4.0506 - val_loss: 32.9759 - val_mse: 32.9759 - val_mae: 4.3365\n",
            "Epoch 39/75\n",
            "41/41 [==============================] - 0s 4ms/step - loss: 25.6557 - mse: 25.6557 - mae: 3.5893 - val_loss: 28.5016 - val_mse: 28.5016 - val_mae: 3.8327\n",
            "Epoch 40/75\n",
            "41/41 [==============================] - 0s 4ms/step - loss: 26.1393 - mse: 26.1393 - mae: 3.6416 - val_loss: 37.5972 - val_mse: 37.5972 - val_mae: 4.8011\n",
            "Epoch 41/75\n",
            "41/41 [==============================] - 0s 4ms/step - loss: 28.6077 - mse: 28.6077 - mae: 3.8933 - val_loss: 33.8168 - val_mse: 33.8168 - val_mae: 4.6344\n",
            "Epoch 42/75\n",
            "41/41 [==============================] - 0s 4ms/step - loss: 33.2369 - mse: 33.2369 - mae: 4.3237 - val_loss: 39.0593 - val_mse: 39.0593 - val_mae: 4.5738\n",
            "Epoch 43/75\n",
            "41/41 [==============================] - 0s 4ms/step - loss: 35.3987 - mse: 35.3987 - mae: 4.4056 - val_loss: 29.4191 - val_mse: 29.4191 - val_mae: 4.1173\n",
            "Epoch 44/75\n",
            "41/41 [==============================] - 0s 4ms/step - loss: 34.2019 - mse: 34.2019 - mae: 4.3028 - val_loss: 36.3529 - val_mse: 36.3529 - val_mae: 4.3653\n",
            "Epoch 45/75\n",
            "41/41 [==============================] - 0s 4ms/step - loss: 30.5668 - mse: 30.5668 - mae: 4.1863 - val_loss: 59.7315 - val_mse: 59.7315 - val_mae: 6.3676\n",
            "Epoch 46/75\n",
            "41/41 [==============================] - 0s 4ms/step - loss: 28.1069 - mse: 28.1069 - mae: 3.9559 - val_loss: 28.7798 - val_mse: 28.7798 - val_mae: 3.9365\n",
            "Epoch 47/75\n",
            "41/41 [==============================] - 0s 5ms/step - loss: 26.6843 - mse: 26.6843 - mae: 3.6864 - val_loss: 30.5132 - val_mse: 30.5132 - val_mae: 4.2011\n",
            "Epoch 48/75\n",
            "41/41 [==============================] - 0s 4ms/step - loss: 26.0353 - mse: 26.0353 - mae: 3.6711 - val_loss: 30.9942 - val_mse: 30.9942 - val_mae: 4.4472\n",
            "Epoch 49/75\n",
            "41/41 [==============================] - 0s 4ms/step - loss: 26.1055 - mse: 26.1055 - mae: 3.7598 - val_loss: 31.3060 - val_mse: 31.3060 - val_mae: 3.9599\n",
            "Epoch 50/75\n",
            "41/41 [==============================] - 0s 4ms/step - loss: 25.1907 - mse: 25.1907 - mae: 3.6364 - val_loss: 28.0137 - val_mse: 28.0137 - val_mae: 3.8907\n",
            "Epoch 51/75\n",
            "41/41 [==============================] - 0s 4ms/step - loss: 26.6197 - mse: 26.6197 - mae: 3.7492 - val_loss: 32.4339 - val_mse: 32.4339 - val_mae: 4.5373\n",
            "Epoch 52/75\n",
            "41/41 [==============================] - 0s 4ms/step - loss: 26.5006 - mse: 26.5006 - mae: 3.7492 - val_loss: 74.4561 - val_mse: 74.4561 - val_mae: 7.4429\n",
            "Epoch 53/75\n",
            "41/41 [==============================] - 0s 5ms/step - loss: 30.3269 - mse: 30.3269 - mae: 3.9765 - val_loss: 27.1209 - val_mse: 27.1209 - val_mae: 3.7950\n",
            "Epoch 54/75\n",
            "41/41 [==============================] - 0s 4ms/step - loss: 24.9081 - mse: 24.9081 - mae: 3.5676 - val_loss: 28.2649 - val_mse: 28.2649 - val_mae: 4.1038\n",
            "Epoch 55/75\n",
            "41/41 [==============================] - 0s 4ms/step - loss: 29.2610 - mse: 29.2610 - mae: 3.9744 - val_loss: 33.3800 - val_mse: 33.3800 - val_mae: 4.4349\n",
            "Epoch 56/75\n",
            "41/41 [==============================] - 0s 4ms/step - loss: 27.7710 - mse: 27.7710 - mae: 3.9712 - val_loss: 26.6101 - val_mse: 26.6101 - val_mae: 3.7148\n",
            "Epoch 57/75\n",
            "41/41 [==============================] - 0s 4ms/step - loss: 24.4544 - mse: 24.4544 - mae: 3.6778 - val_loss: 55.4297 - val_mse: 55.4297 - val_mae: 5.9121\n",
            "Epoch 58/75\n",
            "41/41 [==============================] - 0s 4ms/step - loss: 36.0722 - mse: 36.0722 - mae: 4.5850 - val_loss: 31.2653 - val_mse: 31.2653 - val_mae: 4.2027\n",
            "Epoch 59/75\n",
            "41/41 [==============================] - 0s 4ms/step - loss: 21.0509 - mse: 21.0509 - mae: 3.2630 - val_loss: 30.6246 - val_mse: 30.6246 - val_mae: 4.3874\n",
            "Epoch 60/75\n",
            "41/41 [==============================] - 0s 4ms/step - loss: 21.9741 - mse: 21.9741 - mae: 3.4037 - val_loss: 36.1975 - val_mse: 36.1975 - val_mae: 4.4911\n",
            "Epoch 61/75\n",
            "41/41 [==============================] - 0s 4ms/step - loss: 23.0811 - mse: 23.0811 - mae: 3.5544 - val_loss: 25.5956 - val_mse: 25.5956 - val_mae: 3.5672\n",
            "Epoch 62/75\n",
            "41/41 [==============================] - 0s 5ms/step - loss: 23.0198 - mse: 23.0198 - mae: 3.5311 - val_loss: 26.6409 - val_mse: 26.6409 - val_mae: 4.0166\n",
            "Epoch 63/75\n",
            "41/41 [==============================] - 0s 4ms/step - loss: 22.1258 - mse: 22.1258 - mae: 3.3339 - val_loss: 28.2658 - val_mse: 28.2658 - val_mae: 3.9961\n",
            "Epoch 64/75\n",
            "41/41 [==============================] - 0s 4ms/step - loss: 22.2723 - mse: 22.2723 - mae: 3.5049 - val_loss: 36.5009 - val_mse: 36.5009 - val_mae: 4.5681\n",
            "Epoch 65/75\n",
            "41/41 [==============================] - 0s 4ms/step - loss: 30.2484 - mse: 30.2484 - mae: 4.0837 - val_loss: 25.5744 - val_mse: 25.5744 - val_mae: 3.5769\n",
            "Epoch 66/75\n",
            "41/41 [==============================] - 0s 4ms/step - loss: 25.0016 - mse: 25.0016 - mae: 3.8352 - val_loss: 24.4545 - val_mse: 24.4545 - val_mae: 3.4567\n",
            "Epoch 67/75\n",
            "41/41 [==============================] - 0s 4ms/step - loss: 29.4991 - mse: 29.4991 - mae: 4.0890 - val_loss: 29.4159 - val_mse: 29.4159 - val_mae: 3.7717\n",
            "Epoch 68/75\n",
            "41/41 [==============================] - 0s 4ms/step - loss: 31.9686 - mse: 31.9686 - mae: 4.2077 - val_loss: 23.4382 - val_mse: 23.4382 - val_mae: 3.3075\n",
            "Epoch 69/75\n",
            "41/41 [==============================] - 0s 4ms/step - loss: 20.3354 - mse: 20.3354 - mae: 3.2879 - val_loss: 49.4474 - val_mse: 49.4474 - val_mae: 5.7380\n",
            "Epoch 70/75\n",
            "41/41 [==============================] - 0s 4ms/step - loss: 21.7151 - mse: 21.7151 - mae: 3.5643 - val_loss: 23.3827 - val_mse: 23.3827 - val_mae: 3.6543\n",
            "Epoch 71/75\n",
            "41/41 [==============================] - 0s 4ms/step - loss: 22.8131 - mse: 22.8131 - mae: 3.6980 - val_loss: 28.2226 - val_mse: 28.2226 - val_mae: 3.7030\n",
            "Epoch 72/75\n",
            "41/41 [==============================] - 0s 4ms/step - loss: 27.1378 - mse: 27.1378 - mae: 3.9591 - val_loss: 28.8090 - val_mse: 28.8090 - val_mae: 3.9983\n",
            "Epoch 73/75\n",
            "41/41 [==============================] - 0s 4ms/step - loss: 28.9915 - mse: 28.9915 - mae: 4.0944 - val_loss: 47.5310 - val_mse: 47.5310 - val_mae: 5.5564\n",
            "Epoch 74/75\n",
            "41/41 [==============================] - 0s 4ms/step - loss: 25.3777 - mse: 25.3777 - mae: 3.7573 - val_loss: 37.1283 - val_mse: 37.1283 - val_mae: 4.4908\n",
            "Epoch 75/75\n",
            "41/41 [==============================] - 0s 4ms/step - loss: 22.3419 - mse: 22.3419 - mae: 3.5374 - val_loss: 38.4484 - val_mse: 38.4484 - val_mae: 4.7142\n"
          ],
          "name": "stdout"
        },
        {
          "output_type": "execute_result",
          "data": {
            "text/plain": [
              "<tensorflow.python.keras.callbacks.History at 0x7f412a6e4dd8>"
            ]
          },
          "metadata": {
            "tags": []
          },
          "execution_count": 12
        }
      ]
    },
    {
      "cell_type": "markdown",
      "metadata": {
        "colab_type": "text",
        "id": "sYJ8t_ezHP4W"
      },
      "source": [
        "### Hyperparameter Tuning Approaches:\n",
        "\n",
        "#### 1) Babysitting AKA \"Grad Student Descent\".\n",
        "\n",
        "If you fiddled with any hyperparameters yesterday, this is basically what you did. This approach is 100% manual and is pretty common among researchers where finding that 1 exact specification that jumps your model to a level of accuracy never seen before is the difference between publishing and not publishing a paper. Of course the professors don't do this themselves, that's grunt work. This is also known as the fiddle with hyperparameters until you run out of time method.\n",
        "\n",
        "#### 2) Grid Search\n",
        "\n",
        "Grid Search is the Grad Student galaxy brain realization of: why don't I just specify all the experiments I want to run and let the computer try every possible combination of them while I go and grab lunch. This has a specific downside in that if I specify 5 hyperparameters with 5 options each then I've just created 5^5 combinations of hyperparameters to check. Which means that I have to train 3125 different versions of my model Then if I use 5-fold Cross Validation on that then my model has to run 15,525 times. This is the brute-force method of hyperparameter tuning, but it can be very profitable if done wisely. \n",
        "\n",
        "When using Grid Search here's what I suggest: don't use it to test combinations of different hyperparameters, only use it to test different specifications of **a single** hyperparameter. It's rare that combinations between different hyperparameters lead to big performance gains. You'll get 90-95% of the way there if you just Grid Search one parameter and take the best result, then retain that best result while you test another, and then retain the best specification from that while you train another. This at least makes the situation much more manageable and leads to pretty good results. \n",
        "\n",
        "#### 3) Random Search\n",
        "\n",
        "Do Grid Search for a couple of hours and you'll say to yourself - \"There's got to be a better way.\" Enter Random Search. For Random search you specify a hyperparameter space and it picks specifications from that randomly, tries them out, gives you the best results and says - That's going to have to be good enough, go home and spend time with your family. \n",
        "\n",
        "Grid Search treats every parameter as if it was equally important, but this just isn't the case, some are known to move the needle a lot more than others (we'll talk about that in a minute). Random Search allows searching to be specified along the most important parameter and experiments less along the dimensions of less important hyperparameters. The downside of Random search is that it won't find the absolute best hyperparameters, but it is much less costly to perform than Grid Search. \n",
        "\n",
        "#### 4) Bayesian Methods\n",
        "\n",
        "One thing that can make more manual methods like babysitting and gridsearch effective is that as the experimenter sees results he can then make updates to his future searches taking into account the results of past specifications. If only we could hyperparameter tune our hyperparameter tuning. Well, we kind of can. Enter Bayesian Optimization. Neural Networks are like an optimization problem within an optimization problem, and Bayesian Optimization is a search strategy that tries to take into account the results of past searches in order to improve future ones. Check out the new library `keras-tuner` for easy implementations of Bayesian methods. \n"
      ]
    },
    {
      "cell_type": "markdown",
      "metadata": {
        "colab_type": "text",
        "id": "HfQ7D043OMMn"
      },
      "source": [
        "## What Hyperparameters are there to test?\n",
        "\n",
        "- batch_size\n",
        "- training epochs\n",
        "- optimization algorithms\n",
        "- learning rate\n",
        "- momentum\n",
        "- activation functions\n",
        "- dropout regularization\n",
        "- number of neurons in the hidden layer\n",
        "\n",
        "There are more, but these are the most important."
      ]
    },
    {
      "cell_type": "markdown",
      "metadata": {
        "id": "MDEw8mgwehew",
        "colab_type": "text"
      },
      "source": [
        "## Follow Along"
      ]
    },
    {
      "cell_type": "markdown",
      "metadata": {
        "colab_type": "text",
        "id": "Mri5-kXzVKAa"
      },
      "source": [
        "## Batch Size\n",
        "\n",
        "Batch size determines how many observations the model is shown before it calculates loss/error and updates the model weights via gradient descent. You're looking for a sweet spot here where you're showing it enough observations that you have enough information to updates the weights, but not such a large batch size that you don't get a lot of weight update iterations performed in a given epoch. Feed-forward Neural Networks aren't as sensitive to bach_size as other networks, but it is still an important hyperparameter to tune. Smaller batch sizes will also take longer to train. \n",
        "\n",
        "Traditionally, batch size is set in powers of 2 starting at 32 up to 512. Keras defaults to a batch size of 32 if you do not specify it. Yann LeCun famously Twitted: \n",
        "\n",
        "> Training with large minibatches is bad for your health.\n",
        "More importantly, it's bad for your test error.\n",
        "Friends dont let friends use minibatches larger than 32.\n",
        "\n",
        "Check out this paper for more reference on his tweet. https://arxiv.org/abs/1804.07612. \n",
        "\n",
        "Check out this SO question on why batch size is typically set in powers of two: https://datascience.stackexchange.com/questions/20179/what-is-the-advantage-of-keeping-batch-size-a-power-of-2\n",
        "\n"
      ]
    },
    {
      "cell_type": "code",
      "metadata": {
        "colab_type": "code",
        "id": "2smXfriNAGn7",
        "colab": {
          "base_uri": "https://localhost:8080/",
          "height": 136
        },
        "outputId": "138d76df-c4a4-4292-86e2-40d6a72179e8"
      },
      "source": [
        "import numpy\n",
        "import pandas as pd\n",
        "from sklearn.model_selection import GridSearchCV\n",
        "from tensorflow.keras.models import Sequential\n",
        "from tensorflow.keras.layers import Dense\n",
        "from tensorflow.keras.wrappers.scikit_learn import KerasClassifier #allows up to wrap up tf in something scikit can understand\n",
        "\n",
        "# fix random seed for reproducibility\n",
        "seed = 7\n",
        "numpy.random.seed(seed)\n",
        "\n",
        "# load dataset\n",
        "url =\"https://raw.githubusercontent.com/jbrownlee/Datasets/master/pima-indians-diabetes.data.csv\"\n",
        "\n",
        "dataset = pd.read_csv(url, header=None).values\n",
        "\n",
        "# split into input (X) and output (Y) variables\n",
        "X = dataset[:,0:8] #first 8 columns\n",
        "Y = dataset[:,8]\n",
        "\n",
        "# Function, to create model, required for KerasClassifier\n",
        "def create_model():\n",
        "    # create model\n",
        "    model = Sequential()\n",
        "    model.add(Dense(12, input_dim=8, activation='relu'))\n",
        "    model.add(Dense(1, activation='sigmoid'))\n",
        "    # Compile model\n",
        "    model.compile(loss='binary_crossentropy', optimizer='adam', metrics=['accuracy']) \n",
        "    return model #returns compiled mode\n",
        "\n",
        "# create model\n",
        "model = KerasClassifier(build_fn=create_model, verbose=0)\n",
        "\n",
        "# define the grid search parameters\n",
        "# batch_size = [10, 20, 40, 60, 80, 100]\n",
        "# param_grid = dict(batch_size=batch_size, epochs=epochs)\n",
        "\n",
        "# define the grid search parameters\n",
        "param_grid = {'batch_size': [10, 20, 40, 60, 80, 100],\n",
        "              'epochs': [20]}\n",
        "\n",
        "# Create Grid Search\n",
        "grid = GridSearchCV(estimator=model, param_grid=param_grid, n_jobs=1)\n",
        "grid_result = grid.fit(X, Y)\n",
        "\n",
        "# Report Results\n",
        "print(f\"Best: {grid_result.best_score_} using {grid_result.best_params_}\")\n",
        "means = grid_result.cv_results_['mean_test_score']\n",
        "stds = grid_result.cv_results_['std_test_score']\n",
        "params = grid_result.cv_results_['params']\n",
        "for mean, stdev, param in zip(means, stds, params):\n",
        "    print(f\"Means: {mean}, Stdev: {stdev} with: {param}\") "
      ],
      "execution_count": null,
      "outputs": [
        {
          "output_type": "stream",
          "text": [
            "Best: 0.6588914394378662 using {'batch_size': 10, 'epochs': 20}\n",
            "Means: 0.6588914394378662, Stdev: 0.03267603897410915 with: {'batch_size': 10, 'epochs': 20}\n",
            "Means: 0.6327136993408203, Stdev: 0.04199545340863565 with: {'batch_size': 20, 'epochs': 20}\n",
            "Means: 0.5989050269126892, Stdev: 0.06623366908125486 with: {'batch_size': 40, 'epochs': 20}\n",
            "Means: 0.6341651916503906, Stdev: 0.0620485902508751 with: {'batch_size': 60, 'epochs': 20}\n",
            "Means: 0.5546982526779175, Stdev: 0.027243211471508832 with: {'batch_size': 80, 'epochs': 20}\n",
            "Means: 0.5376029193401337, Stdev: 0.08385760447534386 with: {'batch_size': 100, 'epochs': 20}\n"
          ],
          "name": "stdout"
        }
      ]
    },
    {
      "cell_type": "markdown",
      "metadata": {
        "colab_type": "text",
        "id": "EKcuY6OiaLfz"
      },
      "source": [
        "## Optimizer\n",
        "\n",
        "Remember that there's a different optimizers [optimizers](https://keras.io/optimizers/). At some point, take some time to read up on them a little bit. \"adam\" usually gives the best results. The thing to know about choosing an optimizer is that different optimizers have different hyperparameters like learning rate, momentum, etc. So based on the optimizer you choose you might also have to tune the learning rate and momentum of those optimizers after that. "
      ]
    },
    {
      "cell_type": "markdown",
      "metadata": {
        "colab_type": "text",
        "id": "DG3wq5iOaLig"
      },
      "source": [
        "## Learning Rate\n",
        "\n",
        "Remember that the Learning Rate is a hyperparameter that is specific to your gradient-descent based optimizer selection. A learning rate that is too high will cause divergent behavior, but a Learning Rate that is too low will fail to converge, again, you're looking for the sweet spot. I would start out tuning learning rates by orders of magnitude: [.001, .01, .1, .2, .3, .5] etc. I wouldn't go above .5, but you can try it and see what the behavior is like. \n",
        "\n",
        "Once you have narrowed it down, make the window even smaller and try it again. If after running the above specification your model reports that .1 is the best optimizer, then you should probably try things like [.05, .08, .1, .12, .15] to try and narrow it down. \n",
        "\n",
        "It can also be good to tune the number of epochs in combination with the learning rate since the number of iterations that you allow the learning rate to reach the minimum can determine if you have let it run long enough to converge to the minimum. "
      ]
    },
    {
      "cell_type": "code",
      "metadata": {
        "id": "Smrc7DFbehe0",
        "colab_type": "code",
        "colab": {
          "base_uri": "https://localhost:8080/",
          "height": 374
        },
        "outputId": "8907fbef-7129-4d45-a3cc-4006978c6140"
      },
      "source": [
        "from tensorflow.keras.optimizers import Adam\n",
        "\n",
        "# Function, to create model, required for KerasClassifier\n",
        "def create_model():\n",
        "    #Create Optimizer\n",
        "    adam = Adam(lr=lr)\n",
        "    # create model\n",
        "    model = Sequential()\n",
        "    model.add(Dense(12, input_dim=8, activation='relu'))\n",
        "    model.add(Dense(1, activation='sigmoid'))\n",
        "    # Compile model\n",
        "    model.compile(loss='binary_crossentropy', optimizer=adam, metrics=['accuracy']) \n",
        "    return model #returns compiled mode\n",
        "\n",
        "# create model\n",
        "model = KerasClassifier(build_fn=create_model, verbose=0)\n",
        "\n",
        "# define the grid search parameters\n",
        "# batch_size = [10, 20, 40, 60, 80, 100]\n",
        "# param_grid = dict(batch_size=batch_size, epochs=epochs)\n",
        "\n",
        "# define the grid search parameters\n",
        "param_grid = {'learning_rate': [.001, .01, .1],\n",
        "              'batch_size': [10, 20, 40, 60, 80, 100],\n",
        "              'epochs': [20]}\n",
        "\n",
        "# Create Grid Search\n",
        "grid = GridSearchCV(estimator=model, param_grid=param_grid, n_jobs=1)\n",
        "grid_result = grid.fit(X, Y)\n",
        "\n",
        "# Report Results\n",
        "print(f\"Best: {grid_result.best_score_} using {grid_result.best_params_}\")\n",
        "means = grid_result.cv_results_['mean_test_score']\n",
        "stds = grid_result.cv_results_['std_test_score']\n",
        "params = grid_result.cv_results_['params']\n",
        "for mean, stdev, param in zip(means, stds, params):\n",
        "    print(f\"Means: {mean}, Stdev: {stdev} with: {param}\") "
      ],
      "execution_count": null,
      "outputs": [
        {
          "output_type": "error",
          "ename": "ValueError",
          "evalue": "ignored",
          "traceback": [
            "\u001b[0;31m---------------------------------------------------------------------------\u001b[0m",
            "\u001b[0;31mValueError\u001b[0m                                Traceback (most recent call last)",
            "\u001b[0;32m<ipython-input-16-93950046a1be>\u001b[0m in \u001b[0;36m<module>\u001b[0;34m()\u001b[0m\n\u001b[1;32m     27\u001b[0m \u001b[0;31m# Create Grid Search\u001b[0m\u001b[0;34m\u001b[0m\u001b[0;34m\u001b[0m\u001b[0;34m\u001b[0m\u001b[0m\n\u001b[1;32m     28\u001b[0m \u001b[0mgrid\u001b[0m \u001b[0;34m=\u001b[0m \u001b[0mGridSearchCV\u001b[0m\u001b[0;34m(\u001b[0m\u001b[0mestimator\u001b[0m\u001b[0;34m=\u001b[0m\u001b[0mmodel\u001b[0m\u001b[0;34m,\u001b[0m \u001b[0mparam_grid\u001b[0m\u001b[0;34m=\u001b[0m\u001b[0mparam_grid\u001b[0m\u001b[0;34m,\u001b[0m \u001b[0mn_jobs\u001b[0m\u001b[0;34m=\u001b[0m\u001b[0;36m1\u001b[0m\u001b[0;34m)\u001b[0m\u001b[0;34m\u001b[0m\u001b[0;34m\u001b[0m\u001b[0m\n\u001b[0;32m---> 29\u001b[0;31m \u001b[0mgrid_result\u001b[0m \u001b[0;34m=\u001b[0m \u001b[0mgrid\u001b[0m\u001b[0;34m.\u001b[0m\u001b[0mfit\u001b[0m\u001b[0;34m(\u001b[0m\u001b[0mX\u001b[0m\u001b[0;34m,\u001b[0m \u001b[0mY\u001b[0m\u001b[0;34m)\u001b[0m\u001b[0;34m\u001b[0m\u001b[0;34m\u001b[0m\u001b[0m\n\u001b[0m\u001b[1;32m     30\u001b[0m \u001b[0;34m\u001b[0m\u001b[0m\n\u001b[1;32m     31\u001b[0m \u001b[0;31m# Report Results\u001b[0m\u001b[0;34m\u001b[0m\u001b[0;34m\u001b[0m\u001b[0;34m\u001b[0m\u001b[0m\n",
            "\u001b[0;32m/usr/local/lib/python3.6/dist-packages/sklearn/model_selection/_search.py\u001b[0m in \u001b[0;36mfit\u001b[0;34m(self, X, y, groups, **fit_params)\u001b[0m\n\u001b[1;32m    708\u001b[0m                 \u001b[0;32mreturn\u001b[0m \u001b[0mresults\u001b[0m\u001b[0;34m\u001b[0m\u001b[0;34m\u001b[0m\u001b[0m\n\u001b[1;32m    709\u001b[0m \u001b[0;34m\u001b[0m\u001b[0m\n\u001b[0;32m--> 710\u001b[0;31m             \u001b[0mself\u001b[0m\u001b[0;34m.\u001b[0m\u001b[0m_run_search\u001b[0m\u001b[0;34m(\u001b[0m\u001b[0mevaluate_candidates\u001b[0m\u001b[0;34m)\u001b[0m\u001b[0;34m\u001b[0m\u001b[0;34m\u001b[0m\u001b[0m\n\u001b[0m\u001b[1;32m    711\u001b[0m \u001b[0;34m\u001b[0m\u001b[0m\n\u001b[1;32m    712\u001b[0m         \u001b[0;31m# For multi-metric evaluation, store the best_index_, best_params_ and\u001b[0m\u001b[0;34m\u001b[0m\u001b[0;34m\u001b[0m\u001b[0;34m\u001b[0m\u001b[0m\n",
            "\u001b[0;32m/usr/local/lib/python3.6/dist-packages/sklearn/model_selection/_search.py\u001b[0m in \u001b[0;36m_run_search\u001b[0;34m(self, evaluate_candidates)\u001b[0m\n\u001b[1;32m   1149\u001b[0m     \u001b[0;32mdef\u001b[0m \u001b[0m_run_search\u001b[0m\u001b[0;34m(\u001b[0m\u001b[0mself\u001b[0m\u001b[0;34m,\u001b[0m \u001b[0mevaluate_candidates\u001b[0m\u001b[0;34m)\u001b[0m\u001b[0;34m:\u001b[0m\u001b[0;34m\u001b[0m\u001b[0;34m\u001b[0m\u001b[0m\n\u001b[1;32m   1150\u001b[0m         \u001b[0;34m\"\"\"Search all candidates in param_grid\"\"\"\u001b[0m\u001b[0;34m\u001b[0m\u001b[0;34m\u001b[0m\u001b[0m\n\u001b[0;32m-> 1151\u001b[0;31m         \u001b[0mevaluate_candidates\u001b[0m\u001b[0;34m(\u001b[0m\u001b[0mParameterGrid\u001b[0m\u001b[0;34m(\u001b[0m\u001b[0mself\u001b[0m\u001b[0;34m.\u001b[0m\u001b[0mparam_grid\u001b[0m\u001b[0;34m)\u001b[0m\u001b[0;34m)\u001b[0m\u001b[0;34m\u001b[0m\u001b[0;34m\u001b[0m\u001b[0m\n\u001b[0m\u001b[1;32m   1152\u001b[0m \u001b[0;34m\u001b[0m\u001b[0m\n\u001b[1;32m   1153\u001b[0m \u001b[0;34m\u001b[0m\u001b[0m\n",
            "\u001b[0;32m/usr/local/lib/python3.6/dist-packages/sklearn/model_selection/_search.py\u001b[0m in \u001b[0;36mevaluate_candidates\u001b[0;34m(candidate_params)\u001b[0m\n\u001b[1;32m    687\u001b[0m                                \u001b[0;32mfor\u001b[0m \u001b[0mparameters\u001b[0m\u001b[0;34m,\u001b[0m \u001b[0;34m(\u001b[0m\u001b[0mtrain\u001b[0m\u001b[0;34m,\u001b[0m \u001b[0mtest\u001b[0m\u001b[0;34m)\u001b[0m\u001b[0;34m\u001b[0m\u001b[0;34m\u001b[0m\u001b[0m\n\u001b[1;32m    688\u001b[0m                                in product(candidate_params,\n\u001b[0;32m--> 689\u001b[0;31m                                           cv.split(X, y, groups)))\n\u001b[0m\u001b[1;32m    690\u001b[0m \u001b[0;34m\u001b[0m\u001b[0m\n\u001b[1;32m    691\u001b[0m                 \u001b[0;32mif\u001b[0m \u001b[0mlen\u001b[0m\u001b[0;34m(\u001b[0m\u001b[0mout\u001b[0m\u001b[0;34m)\u001b[0m \u001b[0;34m<\u001b[0m \u001b[0;36m1\u001b[0m\u001b[0;34m:\u001b[0m\u001b[0;34m\u001b[0m\u001b[0;34m\u001b[0m\u001b[0m\n",
            "\u001b[0;32m/usr/local/lib/python3.6/dist-packages/joblib/parallel.py\u001b[0m in \u001b[0;36m__call__\u001b[0;34m(self, iterable)\u001b[0m\n\u001b[1;32m   1027\u001b[0m             \u001b[0;31m# remaining jobs.\u001b[0m\u001b[0;34m\u001b[0m\u001b[0;34m\u001b[0m\u001b[0;34m\u001b[0m\u001b[0m\n\u001b[1;32m   1028\u001b[0m             \u001b[0mself\u001b[0m\u001b[0;34m.\u001b[0m\u001b[0m_iterating\u001b[0m \u001b[0;34m=\u001b[0m \u001b[0;32mFalse\u001b[0m\u001b[0;34m\u001b[0m\u001b[0;34m\u001b[0m\u001b[0m\n\u001b[0;32m-> 1029\u001b[0;31m             \u001b[0;32mif\u001b[0m \u001b[0mself\u001b[0m\u001b[0;34m.\u001b[0m\u001b[0mdispatch_one_batch\u001b[0m\u001b[0;34m(\u001b[0m\u001b[0miterator\u001b[0m\u001b[0;34m)\u001b[0m\u001b[0;34m:\u001b[0m\u001b[0;34m\u001b[0m\u001b[0;34m\u001b[0m\u001b[0m\n\u001b[0m\u001b[1;32m   1030\u001b[0m                 \u001b[0mself\u001b[0m\u001b[0;34m.\u001b[0m\u001b[0m_iterating\u001b[0m \u001b[0;34m=\u001b[0m \u001b[0mself\u001b[0m\u001b[0;34m.\u001b[0m\u001b[0m_original_iterator\u001b[0m \u001b[0;32mis\u001b[0m \u001b[0;32mnot\u001b[0m \u001b[0;32mNone\u001b[0m\u001b[0;34m\u001b[0m\u001b[0;34m\u001b[0m\u001b[0m\n\u001b[1;32m   1031\u001b[0m \u001b[0;34m\u001b[0m\u001b[0m\n",
            "\u001b[0;32m/usr/local/lib/python3.6/dist-packages/joblib/parallel.py\u001b[0m in \u001b[0;36mdispatch_one_batch\u001b[0;34m(self, iterator)\u001b[0m\n\u001b[1;32m    845\u001b[0m                 \u001b[0;32mreturn\u001b[0m \u001b[0;32mFalse\u001b[0m\u001b[0;34m\u001b[0m\u001b[0;34m\u001b[0m\u001b[0m\n\u001b[1;32m    846\u001b[0m             \u001b[0;32melse\u001b[0m\u001b[0;34m:\u001b[0m\u001b[0;34m\u001b[0m\u001b[0;34m\u001b[0m\u001b[0m\n\u001b[0;32m--> 847\u001b[0;31m                 \u001b[0mself\u001b[0m\u001b[0;34m.\u001b[0m\u001b[0m_dispatch\u001b[0m\u001b[0;34m(\u001b[0m\u001b[0mtasks\u001b[0m\u001b[0;34m)\u001b[0m\u001b[0;34m\u001b[0m\u001b[0;34m\u001b[0m\u001b[0m\n\u001b[0m\u001b[1;32m    848\u001b[0m                 \u001b[0;32mreturn\u001b[0m \u001b[0;32mTrue\u001b[0m\u001b[0;34m\u001b[0m\u001b[0;34m\u001b[0m\u001b[0m\n\u001b[1;32m    849\u001b[0m \u001b[0;34m\u001b[0m\u001b[0m\n",
            "\u001b[0;32m/usr/local/lib/python3.6/dist-packages/joblib/parallel.py\u001b[0m in \u001b[0;36m_dispatch\u001b[0;34m(self, batch)\u001b[0m\n\u001b[1;32m    763\u001b[0m         \u001b[0;32mwith\u001b[0m \u001b[0mself\u001b[0m\u001b[0;34m.\u001b[0m\u001b[0m_lock\u001b[0m\u001b[0;34m:\u001b[0m\u001b[0;34m\u001b[0m\u001b[0;34m\u001b[0m\u001b[0m\n\u001b[1;32m    764\u001b[0m             \u001b[0mjob_idx\u001b[0m \u001b[0;34m=\u001b[0m \u001b[0mlen\u001b[0m\u001b[0;34m(\u001b[0m\u001b[0mself\u001b[0m\u001b[0;34m.\u001b[0m\u001b[0m_jobs\u001b[0m\u001b[0;34m)\u001b[0m\u001b[0;34m\u001b[0m\u001b[0;34m\u001b[0m\u001b[0m\n\u001b[0;32m--> 765\u001b[0;31m             \u001b[0mjob\u001b[0m \u001b[0;34m=\u001b[0m \u001b[0mself\u001b[0m\u001b[0;34m.\u001b[0m\u001b[0m_backend\u001b[0m\u001b[0;34m.\u001b[0m\u001b[0mapply_async\u001b[0m\u001b[0;34m(\u001b[0m\u001b[0mbatch\u001b[0m\u001b[0;34m,\u001b[0m \u001b[0mcallback\u001b[0m\u001b[0;34m=\u001b[0m\u001b[0mcb\u001b[0m\u001b[0;34m)\u001b[0m\u001b[0;34m\u001b[0m\u001b[0;34m\u001b[0m\u001b[0m\n\u001b[0m\u001b[1;32m    766\u001b[0m             \u001b[0;31m# A job can complete so quickly than its callback is\u001b[0m\u001b[0;34m\u001b[0m\u001b[0;34m\u001b[0m\u001b[0;34m\u001b[0m\u001b[0m\n\u001b[1;32m    767\u001b[0m             \u001b[0;31m# called before we get here, causing self._jobs to\u001b[0m\u001b[0;34m\u001b[0m\u001b[0;34m\u001b[0m\u001b[0;34m\u001b[0m\u001b[0m\n",
            "\u001b[0;32m/usr/local/lib/python3.6/dist-packages/joblib/_parallel_backends.py\u001b[0m in \u001b[0;36mapply_async\u001b[0;34m(self, func, callback)\u001b[0m\n\u001b[1;32m    206\u001b[0m     \u001b[0;32mdef\u001b[0m \u001b[0mapply_async\u001b[0m\u001b[0;34m(\u001b[0m\u001b[0mself\u001b[0m\u001b[0;34m,\u001b[0m \u001b[0mfunc\u001b[0m\u001b[0;34m,\u001b[0m \u001b[0mcallback\u001b[0m\u001b[0;34m=\u001b[0m\u001b[0;32mNone\u001b[0m\u001b[0;34m)\u001b[0m\u001b[0;34m:\u001b[0m\u001b[0;34m\u001b[0m\u001b[0;34m\u001b[0m\u001b[0m\n\u001b[1;32m    207\u001b[0m         \u001b[0;34m\"\"\"Schedule a func to be run\"\"\"\u001b[0m\u001b[0;34m\u001b[0m\u001b[0;34m\u001b[0m\u001b[0m\n\u001b[0;32m--> 208\u001b[0;31m         \u001b[0mresult\u001b[0m \u001b[0;34m=\u001b[0m \u001b[0mImmediateResult\u001b[0m\u001b[0;34m(\u001b[0m\u001b[0mfunc\u001b[0m\u001b[0;34m)\u001b[0m\u001b[0;34m\u001b[0m\u001b[0;34m\u001b[0m\u001b[0m\n\u001b[0m\u001b[1;32m    209\u001b[0m         \u001b[0;32mif\u001b[0m \u001b[0mcallback\u001b[0m\u001b[0;34m:\u001b[0m\u001b[0;34m\u001b[0m\u001b[0;34m\u001b[0m\u001b[0m\n\u001b[1;32m    210\u001b[0m             \u001b[0mcallback\u001b[0m\u001b[0;34m(\u001b[0m\u001b[0mresult\u001b[0m\u001b[0;34m)\u001b[0m\u001b[0;34m\u001b[0m\u001b[0;34m\u001b[0m\u001b[0m\n",
            "\u001b[0;32m/usr/local/lib/python3.6/dist-packages/joblib/_parallel_backends.py\u001b[0m in \u001b[0;36m__init__\u001b[0;34m(self, batch)\u001b[0m\n\u001b[1;32m    570\u001b[0m         \u001b[0;31m# Don't delay the application, to avoid keeping the input\u001b[0m\u001b[0;34m\u001b[0m\u001b[0;34m\u001b[0m\u001b[0;34m\u001b[0m\u001b[0m\n\u001b[1;32m    571\u001b[0m         \u001b[0;31m# arguments in memory\u001b[0m\u001b[0;34m\u001b[0m\u001b[0;34m\u001b[0m\u001b[0;34m\u001b[0m\u001b[0m\n\u001b[0;32m--> 572\u001b[0;31m         \u001b[0mself\u001b[0m\u001b[0;34m.\u001b[0m\u001b[0mresults\u001b[0m \u001b[0;34m=\u001b[0m \u001b[0mbatch\u001b[0m\u001b[0;34m(\u001b[0m\u001b[0;34m)\u001b[0m\u001b[0;34m\u001b[0m\u001b[0;34m\u001b[0m\u001b[0m\n\u001b[0m\u001b[1;32m    573\u001b[0m \u001b[0;34m\u001b[0m\u001b[0m\n\u001b[1;32m    574\u001b[0m     \u001b[0;32mdef\u001b[0m \u001b[0mget\u001b[0m\u001b[0;34m(\u001b[0m\u001b[0mself\u001b[0m\u001b[0;34m)\u001b[0m\u001b[0;34m:\u001b[0m\u001b[0;34m\u001b[0m\u001b[0;34m\u001b[0m\u001b[0m\n",
            "\u001b[0;32m/usr/local/lib/python3.6/dist-packages/joblib/parallel.py\u001b[0m in \u001b[0;36m__call__\u001b[0;34m(self)\u001b[0m\n\u001b[1;32m    251\u001b[0m         \u001b[0;32mwith\u001b[0m \u001b[0mparallel_backend\u001b[0m\u001b[0;34m(\u001b[0m\u001b[0mself\u001b[0m\u001b[0;34m.\u001b[0m\u001b[0m_backend\u001b[0m\u001b[0;34m,\u001b[0m \u001b[0mn_jobs\u001b[0m\u001b[0;34m=\u001b[0m\u001b[0mself\u001b[0m\u001b[0;34m.\u001b[0m\u001b[0m_n_jobs\u001b[0m\u001b[0;34m)\u001b[0m\u001b[0;34m:\u001b[0m\u001b[0;34m\u001b[0m\u001b[0;34m\u001b[0m\u001b[0m\n\u001b[1;32m    252\u001b[0m             return [func(*args, **kwargs)\n\u001b[0;32m--> 253\u001b[0;31m                     for func, args, kwargs in self.items]\n\u001b[0m\u001b[1;32m    254\u001b[0m \u001b[0;34m\u001b[0m\u001b[0m\n\u001b[1;32m    255\u001b[0m     \u001b[0;32mdef\u001b[0m \u001b[0m__reduce__\u001b[0m\u001b[0;34m(\u001b[0m\u001b[0mself\u001b[0m\u001b[0;34m)\u001b[0m\u001b[0;34m:\u001b[0m\u001b[0;34m\u001b[0m\u001b[0;34m\u001b[0m\u001b[0m\n",
            "\u001b[0;32m/usr/local/lib/python3.6/dist-packages/joblib/parallel.py\u001b[0m in \u001b[0;36m<listcomp>\u001b[0;34m(.0)\u001b[0m\n\u001b[1;32m    251\u001b[0m         \u001b[0;32mwith\u001b[0m \u001b[0mparallel_backend\u001b[0m\u001b[0;34m(\u001b[0m\u001b[0mself\u001b[0m\u001b[0;34m.\u001b[0m\u001b[0m_backend\u001b[0m\u001b[0;34m,\u001b[0m \u001b[0mn_jobs\u001b[0m\u001b[0;34m=\u001b[0m\u001b[0mself\u001b[0m\u001b[0;34m.\u001b[0m\u001b[0m_n_jobs\u001b[0m\u001b[0;34m)\u001b[0m\u001b[0;34m:\u001b[0m\u001b[0;34m\u001b[0m\u001b[0;34m\u001b[0m\u001b[0m\n\u001b[1;32m    252\u001b[0m             return [func(*args, **kwargs)\n\u001b[0;32m--> 253\u001b[0;31m                     for func, args, kwargs in self.items]\n\u001b[0m\u001b[1;32m    254\u001b[0m \u001b[0;34m\u001b[0m\u001b[0m\n\u001b[1;32m    255\u001b[0m     \u001b[0;32mdef\u001b[0m \u001b[0m__reduce__\u001b[0m\u001b[0;34m(\u001b[0m\u001b[0mself\u001b[0m\u001b[0;34m)\u001b[0m\u001b[0;34m:\u001b[0m\u001b[0;34m\u001b[0m\u001b[0;34m\u001b[0m\u001b[0m\n",
            "\u001b[0;32m/usr/local/lib/python3.6/dist-packages/sklearn/model_selection/_validation.py\u001b[0m in \u001b[0;36m_fit_and_score\u001b[0;34m(estimator, X, y, scorer, train, test, verbose, parameters, fit_params, return_train_score, return_parameters, return_n_test_samples, return_times, return_estimator, error_score)\u001b[0m\n\u001b[1;32m    502\u001b[0m             \u001b[0mcloned_parameters\u001b[0m\u001b[0;34m[\u001b[0m\u001b[0mk\u001b[0m\u001b[0;34m]\u001b[0m \u001b[0;34m=\u001b[0m \u001b[0mclone\u001b[0m\u001b[0;34m(\u001b[0m\u001b[0mv\u001b[0m\u001b[0;34m,\u001b[0m \u001b[0msafe\u001b[0m\u001b[0;34m=\u001b[0m\u001b[0;32mFalse\u001b[0m\u001b[0;34m)\u001b[0m\u001b[0;34m\u001b[0m\u001b[0;34m\u001b[0m\u001b[0m\n\u001b[1;32m    503\u001b[0m \u001b[0;34m\u001b[0m\u001b[0m\n\u001b[0;32m--> 504\u001b[0;31m         \u001b[0mestimator\u001b[0m \u001b[0;34m=\u001b[0m \u001b[0mestimator\u001b[0m\u001b[0;34m.\u001b[0m\u001b[0mset_params\u001b[0m\u001b[0;34m(\u001b[0m\u001b[0;34m**\u001b[0m\u001b[0mcloned_parameters\u001b[0m\u001b[0;34m)\u001b[0m\u001b[0;34m\u001b[0m\u001b[0;34m\u001b[0m\u001b[0m\n\u001b[0m\u001b[1;32m    505\u001b[0m \u001b[0;34m\u001b[0m\u001b[0m\n\u001b[1;32m    506\u001b[0m     \u001b[0mstart_time\u001b[0m \u001b[0;34m=\u001b[0m \u001b[0mtime\u001b[0m\u001b[0;34m.\u001b[0m\u001b[0mtime\u001b[0m\u001b[0;34m(\u001b[0m\u001b[0;34m)\u001b[0m\u001b[0;34m\u001b[0m\u001b[0;34m\u001b[0m\u001b[0m\n",
            "\u001b[0;32m/usr/local/lib/python3.6/dist-packages/tensorflow/python/keras/wrappers/scikit_learn.py\u001b[0m in \u001b[0;36mset_params\u001b[0;34m(self, **params)\u001b[0m\n\u001b[1;32m    128\u001b[0m         \u001b[0mself\u001b[0m\u001b[0;34m\u001b[0m\u001b[0;34m\u001b[0m\u001b[0m\n\u001b[1;32m    129\u001b[0m     \"\"\"\n\u001b[0;32m--> 130\u001b[0;31m     \u001b[0mself\u001b[0m\u001b[0;34m.\u001b[0m\u001b[0mcheck_params\u001b[0m\u001b[0;34m(\u001b[0m\u001b[0mparams\u001b[0m\u001b[0;34m)\u001b[0m\u001b[0;34m\u001b[0m\u001b[0;34m\u001b[0m\u001b[0m\n\u001b[0m\u001b[1;32m    131\u001b[0m     \u001b[0mself\u001b[0m\u001b[0;34m.\u001b[0m\u001b[0msk_params\u001b[0m\u001b[0;34m.\u001b[0m\u001b[0mupdate\u001b[0m\u001b[0;34m(\u001b[0m\u001b[0mparams\u001b[0m\u001b[0;34m)\u001b[0m\u001b[0;34m\u001b[0m\u001b[0;34m\u001b[0m\u001b[0m\n\u001b[1;32m    132\u001b[0m     \u001b[0;32mreturn\u001b[0m \u001b[0mself\u001b[0m\u001b[0;34m\u001b[0m\u001b[0;34m\u001b[0m\u001b[0m\n",
            "\u001b[0;32m/usr/local/lib/python3.6/dist-packages/tensorflow/python/keras/wrappers/scikit_learn.py\u001b[0m in \u001b[0;36mcheck_params\u001b[0;34m(self, params)\u001b[0m\n\u001b[1;32m    104\u001b[0m       \u001b[0;32melse\u001b[0m\u001b[0;34m:\u001b[0m\u001b[0;34m\u001b[0m\u001b[0;34m\u001b[0m\u001b[0m\n\u001b[1;32m    105\u001b[0m         \u001b[0;32mif\u001b[0m \u001b[0mparams_name\u001b[0m \u001b[0;34m!=\u001b[0m \u001b[0;34m'nb_epoch'\u001b[0m\u001b[0;34m:\u001b[0m\u001b[0;34m\u001b[0m\u001b[0;34m\u001b[0m\u001b[0m\n\u001b[0;32m--> 106\u001b[0;31m           \u001b[0;32mraise\u001b[0m \u001b[0mValueError\u001b[0m\u001b[0;34m(\u001b[0m\u001b[0;34m'{} is not a legal parameter'\u001b[0m\u001b[0;34m.\u001b[0m\u001b[0mformat\u001b[0m\u001b[0;34m(\u001b[0m\u001b[0mparams_name\u001b[0m\u001b[0;34m)\u001b[0m\u001b[0;34m)\u001b[0m\u001b[0;34m\u001b[0m\u001b[0;34m\u001b[0m\u001b[0m\n\u001b[0m\u001b[1;32m    107\u001b[0m \u001b[0;34m\u001b[0m\u001b[0m\n\u001b[1;32m    108\u001b[0m   \u001b[0;32mdef\u001b[0m \u001b[0mget_params\u001b[0m\u001b[0;34m(\u001b[0m\u001b[0mself\u001b[0m\u001b[0;34m,\u001b[0m \u001b[0;34m**\u001b[0m\u001b[0mparams\u001b[0m\u001b[0;34m)\u001b[0m\u001b[0;34m:\u001b[0m  \u001b[0;31m# pylint: disable=unused-argument\u001b[0m\u001b[0;34m\u001b[0m\u001b[0;34m\u001b[0m\u001b[0m\n",
            "\u001b[0;31mValueError\u001b[0m: lr is not a legal parameter"
          ]
        }
      ]
    },
    {
      "cell_type": "markdown",
      "metadata": {
        "colab_type": "text",
        "id": "gNTBUWd1aLlA"
      },
      "source": [
        "## Momentum\n",
        "\n",
        "Momentum is a hyperparameter that is more commonly associated with Stochastic Gradient Descent. SGD is a common optimizer because it's what people understand and know, but I doubt it will get you the best results, you can try hyperparameter tuning its attributes and see if you can beat the performance from adam. Momentum is a property that decides the willingness of an optimizer to overshoot the minimum. Imagine a ball rolling down one side of a bowl and then up the opposite side a little bit before settling back to the bottom. The purpose of momentum is to try and escale local minima."
      ]
    },
    {
      "cell_type": "markdown",
      "metadata": {
        "colab_type": "text",
        "id": "xnEG-bCJaLnZ"
      },
      "source": [
        "## Activation Functions\n",
        "\n",
        "We've talked about this a little bit, typically you'l want to use ReLU for hidden layers and either Sigmoid, or Softmax for output layers of binary and multi-class classification implementations respectively, but try other activation functions and see if you can get any better results with sigmoid or tanh or something. There are a lot of activation functions that we haven't really talked about. Maybe you'll get good results with them. Maybe you won't. :) <https://keras.io/activations/>"
      ]
    },
    {
      "cell_type": "markdown",
      "metadata": {
        "colab_type": "text",
        "id": "oul9sPq-dU-h"
      },
      "source": [
        "## Network Weight Initialization\n",
        "\n",
        "You saw how big of an effect the way that we initialize our network's weights can have on our results. There are **a lot** of what are called initialization modes. I don't understand all of them, but they can have a big affect on your model's initial accuracy. Your model will get further with less epochs if you initialize it with weights that are well suited to the problem you're trying to solve.\n",
        "\n",
        "`init_mode = ['uniform', 'lecun_uniform', 'normal', 'zero', 'glorot_normal', 'glorot_uniform', 'he_normal', 'he_uniform']`"
      ]
    },
    {
      "cell_type": "markdown",
      "metadata": {
        "colab_type": "text",
        "id": "bqtEuxeQaLqE"
      },
      "source": [
        "## Dropout Regularization and the Weight Constraint\n",
        "\n",
        "the Dropout Regularization value is a percentage of neurons that you want to be randomly deactivated during training. The weight constraint is a second regularization parameter that works in tandem with dropout regularization. You should tune these two values at the same time. \n",
        "\n",
        "Using dropout on visible vs hidden layers might have a different effect. Using dropout on hidden layers might not have any effect while using dropout on hidden layers might have a substantial effect. You don't necessarily need to turn use dropout unless you see that your model has overfitting and generalizability problems."
      ]
    },
    {
      "cell_type": "markdown",
      "metadata": {
        "colab_type": "text",
        "id": "P2c5Cv6oaLtO"
      },
      "source": [
        "## Neurons in Hidden Layer \n",
        "\n",
        "Remember that when we only had a single perceptron our model was only able to fit to linearly separable data, but as we have added layers and nodes to those layers our network has become a powerhouse of fitting nonlinearity in data. The larger the network and the more nodes generally the stronger the network's capacity to fit nonlinear patterns in data. The more nodes and layers the longer it will take to train a network, and higher the probability of overfitting. The larger your network gets the more you'll need dropout regularization or other regularization techniques to keep it in check. \n",
        "\n",
        "Typically depth (more layers) is more important than width (more nodes) for neural networks. This is part of why Deep Learning is so highly touted. Certain deep learning architectures have truly been huge breakthroughs for certain machine learning tasks. \n",
        "\n",
        "You might borrow ideas from other network architectures. For example if I was doing image recognition and I wasn't taking cues from state of the art architectures like resnet, alexnet, googlenet, etc. Then I'm probably going to have to do a lot more experimentation on my own before I find something that works.\n",
        "\n",
        "There are some heuristics, but I am highly skeptical of them. I think you're better off experimenting on your own and forming your own intuition for these kinds of problems. \n",
        "\n",
        "- https://machinelearningmastery.com/how-to-configure-the-number-of-layers-and-nodes-in-a-neural-network/"
      ]
    },
    {
      "cell_type": "markdown",
      "metadata": {
        "id": "19g3U3VSehe4",
        "colab_type": "text"
      },
      "source": [
        "## Challenge\n",
        "You will be expected to tune several hyperparameters in today's module project. "
      ]
    },
    {
      "cell_type": "markdown",
      "metadata": {
        "id": "nMW5FpzNehe5",
        "colab_type": "text"
      },
      "source": [
        "# Experiment Tracking Framework (Learn)\n",
        "<a id=\"p2\"></a>"
      ]
    },
    {
      "cell_type": "markdown",
      "metadata": {
        "id": "L_kVK14mehe5",
        "colab_type": "text"
      },
      "source": [
        "## Overview\n",
        "\n",
        "You will notice quickly that managing the results of all the experiments you are running becomes challenging. Which set of parameters did the best? Are my results today different than my results yesterday? Although we use Ipython Notebooks to work, the format is not well suited to logging experimental results. Enter experiment tracking frameworks like [Comet.ml](https://comet.ml) and [Weights and Biases](https://wandb.ai/).\n",
        "\n",
        "Those tools will help you track your experiments, store the results, and the code associated with those experiments. Experimental results can also be readily visualized to see changes in performance across any metric you care about. Data is sent to the tool as each epoch is completed, so you can also see if your model is converging. Let's check out Weights & Biases today. "
      ]
    },
    {
      "cell_type": "markdown",
      "metadata": {
        "id": "tB-8iMkxehe6",
        "colab_type": "text"
      },
      "source": [
        "## Follow Along\n",
        "\n",
        "Make sure you login into `wandb` in the terminal before running the next cell. "
      ]
    },
    {
      "cell_type": "code",
      "metadata": {
        "id": "SNv_n4nPehe6",
        "colab_type": "code",
        "colab": {
          "base_uri": "https://localhost:8080/",
          "height": 316
        },
        "outputId": "8d5351a9-953e-4313-d23c-9c34529ff4d8"
      },
      "source": [
        "import wandb\n",
        "from wandb.keras import WandbCallback"
      ],
      "execution_count": null,
      "outputs": [
        {
          "output_type": "error",
          "ename": "ModuleNotFoundError",
          "evalue": "ignored",
          "traceback": [
            "\u001b[0;31m---------------------------------------------------------------------------\u001b[0m",
            "\u001b[0;31mModuleNotFoundError\u001b[0m                       Traceback (most recent call last)",
            "\u001b[0;32m<ipython-input-8-b21f1d567bc6>\u001b[0m in \u001b[0;36m<module>\u001b[0;34m()\u001b[0m\n\u001b[0;32m----> 1\u001b[0;31m \u001b[0;32mimport\u001b[0m \u001b[0mwandb\u001b[0m\u001b[0;34m\u001b[0m\u001b[0;34m\u001b[0m\u001b[0m\n\u001b[0m\u001b[1;32m      2\u001b[0m \u001b[0;32mfrom\u001b[0m \u001b[0mwandb\u001b[0m\u001b[0;34m.\u001b[0m\u001b[0mkeras\u001b[0m \u001b[0;32mimport\u001b[0m \u001b[0mWandbCallback\u001b[0m\u001b[0;34m\u001b[0m\u001b[0;34m\u001b[0m\u001b[0m\n",
            "\u001b[0;31mModuleNotFoundError\u001b[0m: No module named 'wandb'",
            "",
            "\u001b[0;31m---------------------------------------------------------------------------\u001b[0;32m\nNOTE: If your import is failing due to a missing package, you can\nmanually install dependencies using either !pip or !apt.\n\nTo view examples of installing some common dependencies, click the\n\"Open Examples\" button below.\n\u001b[0;31m---------------------------------------------------------------------------\u001b[0m\n"
          ]
        }
      ]
    },
    {
      "cell_type": "code",
      "metadata": {
        "colab_type": "code",
        "id": "QZwPN39-ehe8",
        "colab": {
          "base_uri": "https://localhost:8080/",
          "height": 1000
        },
        "outputId": "1b3dd6f2-7c42-433a-cd98-4419a2908990"
      },
      "source": [
        "wandb.init(project=wandb_project, entity=wandb_group) #Initializes and Experiment\n",
        "\n",
        "# Important Hyperparameters\n",
        "X =  x_train\n",
        "y =  y_train\n",
        "\n",
        "inputs = X.shape[1]\n",
        "wandb.config.epochs = 50\n",
        "wandb.config.batch_size = 10\n",
        "\n",
        "# Create Model\n",
        "model = Sequential()\n",
        "model.add(Dense(64, activation='relu', input_shape=(inputs,)))\n",
        "model.add(Dense(64, activation='relu'))\n",
        "model.add(Dense(64, activation='relu'))\n",
        "model.add(Dense(1))\n",
        "# Compile Model\n",
        "model.compile(optimizer='adam', loss='mse', metrics=['mse', 'mae'])\n",
        "\n",
        "# Fit Model\n",
        "model.fit(X, y, \n",
        "          validation_split=0.33, \n",
        "          epochs=wandb.config.epochs, \n",
        "          batch_size=wandb.config.batch_size, \n",
        "          callbacks=[WandbCallback()]\n",
        "         )"
      ],
      "execution_count": null,
      "outputs": [
        {
          "output_type": "display_data",
          "data": {
            "text/html": [
              "\n",
              "                Logging results to <a href=\"https://wandb.com\" target=\"_blank\">Weights & Biases</a> <a href=\"https://docs.wandb.com/integrations/jupyter.html\" target=\"_blank\">(Documentation)</a>.<br/>\n",
              "                Project page: <a href=\"https://app.wandb.ai/ds8/ds15-inclass\" target=\"_blank\">https://app.wandb.ai/ds8/ds15-inclass</a><br/>\n",
              "                Run page: <a href=\"https://app.wandb.ai/ds8/ds15-inclass/runs/1fedas4f\" target=\"_blank\">https://app.wandb.ai/ds8/ds15-inclass/runs/1fedas4f</a><br/>\n",
              "            "
            ],
            "text/plain": [
              "<IPython.core.display.HTML object>"
            ]
          },
          "metadata": {
            "tags": []
          }
        },
        {
          "output_type": "stream",
          "text": [
            "Epoch 1/50\n",
            "27/27 [==============================] - 0s 12ms/step - loss: 2627.4958 - mse: 2627.4958 - mae: 37.3535 - val_loss: 378.7113 - val_mse: 378.7113 - val_mae: 16.7555\n",
            "Epoch 2/50\n",
            "27/27 [==============================] - 0s 7ms/step - loss: 208.7885 - mse: 208.7885 - mae: 11.6437 - val_loss: 113.9526 - val_mse: 113.9526 - val_mae: 8.6457\n",
            "Epoch 3/50\n",
            "27/27 [==============================] - 0s 8ms/step - loss: 82.6809 - mse: 82.6809 - mae: 6.8108 - val_loss: 85.7614 - val_mse: 85.7614 - val_mae: 6.2403\n",
            "Epoch 4/50\n",
            "27/27 [==============================] - 0s 8ms/step - loss: 58.5172 - mse: 58.5172 - mae: 5.4916 - val_loss: 81.5648 - val_mse: 81.5648 - val_mae: 6.0192\n",
            "Epoch 5/50\n",
            "27/27 [==============================] - 0s 6ms/step - loss: 54.7396 - mse: 54.7396 - mae: 5.2455 - val_loss: 81.9509 - val_mse: 81.9509 - val_mae: 5.8551\n",
            "Epoch 6/50\n",
            "27/27 [==============================] - 0s 7ms/step - loss: 54.3789 - mse: 54.3789 - mae: 5.2369 - val_loss: 78.9942 - val_mse: 78.9942 - val_mae: 5.8973\n",
            "Epoch 7/50\n",
            "27/27 [==============================] - 0s 5ms/step - loss: 52.3942 - mse: 52.3942 - mae: 5.0511 - val_loss: 79.9886 - val_mse: 79.9886 - val_mae: 5.8222\n",
            "Epoch 8/50\n",
            "27/27 [==============================] - 0s 7ms/step - loss: 48.3927 - mse: 48.3927 - mae: 4.9245 - val_loss: 77.0987 - val_mse: 77.0987 - val_mae: 6.1629\n",
            "Epoch 9/50\n",
            "27/27 [==============================] - 0s 7ms/step - loss: 49.9912 - mse: 49.9912 - mae: 4.9518 - val_loss: 76.5014 - val_mse: 76.5014 - val_mae: 6.2373\n",
            "Epoch 10/50\n",
            "27/27 [==============================] - 0s 5ms/step - loss: 45.4208 - mse: 45.4208 - mae: 4.5924 - val_loss: 79.0544 - val_mse: 79.0544 - val_mae: 6.7954\n",
            "Epoch 11/50\n",
            "27/27 [==============================] - 0s 6ms/step - loss: 50.3147 - mse: 50.3147 - mae: 5.1128 - val_loss: 82.7377 - val_mse: 82.7377 - val_mae: 5.5660\n",
            "Epoch 12/50\n",
            "27/27 [==============================] - 0s 7ms/step - loss: 46.4123 - mse: 46.4123 - mae: 4.7307 - val_loss: 75.9255 - val_mse: 75.9255 - val_mae: 6.2678\n",
            "Epoch 13/50\n",
            "27/27 [==============================] - 0s 8ms/step - loss: 45.1997 - mse: 45.1997 - mae: 4.6530 - val_loss: 75.8933 - val_mse: 75.8933 - val_mae: 6.6533\n",
            "Epoch 14/50\n",
            "27/27 [==============================] - 0s 7ms/step - loss: 42.8204 - mse: 42.8204 - mae: 4.4953 - val_loss: 75.5631 - val_mse: 75.5631 - val_mae: 5.4305\n",
            "Epoch 15/50\n",
            "27/27 [==============================] - 0s 8ms/step - loss: 42.5128 - mse: 42.5128 - mae: 4.4326 - val_loss: 71.6404 - val_mse: 71.6404 - val_mae: 5.5743\n",
            "Epoch 16/50\n",
            "27/27 [==============================] - 0s 8ms/step - loss: 42.6820 - mse: 42.6820 - mae: 4.5255 - val_loss: 69.9488 - val_mse: 69.9488 - val_mae: 5.5412\n",
            "Epoch 17/50\n",
            "27/27 [==============================] - 0s 6ms/step - loss: 43.8853 - mse: 43.8853 - mae: 4.6251 - val_loss: 79.2008 - val_mse: 79.2008 - val_mae: 5.3978\n",
            "Epoch 18/50\n",
            "27/27 [==============================] - 0s 5ms/step - loss: 42.7556 - mse: 42.7556 - mae: 4.5329 - val_loss: 70.3818 - val_mse: 70.3818 - val_mae: 5.3398\n",
            "Epoch 19/50\n",
            "27/27 [==============================] - 0s 7ms/step - loss: 39.3856 - mse: 39.3856 - mae: 4.2469 - val_loss: 68.6329 - val_mse: 68.6329 - val_mae: 5.2988\n",
            "Epoch 20/50\n",
            "27/27 [==============================] - 0s 5ms/step - loss: 38.0151 - mse: 38.0151 - mae: 4.1923 - val_loss: 70.6789 - val_mse: 70.6789 - val_mae: 5.2400\n",
            "Epoch 21/50\n",
            "27/27 [==============================] - 0s 5ms/step - loss: 44.5920 - mse: 44.5920 - mae: 4.7272 - val_loss: 72.8946 - val_mse: 72.8946 - val_mae: 6.9406\n",
            "Epoch 22/50\n",
            "27/27 [==============================] - 0s 7ms/step - loss: 41.2630 - mse: 41.2630 - mae: 4.4606 - val_loss: 64.0081 - val_mse: 64.0081 - val_mae: 5.4301\n",
            "Epoch 23/50\n",
            "27/27 [==============================] - 0s 7ms/step - loss: 38.0190 - mse: 38.0190 - mae: 4.4973 - val_loss: 61.8642 - val_mse: 61.8642 - val_mae: 5.4565\n",
            "Epoch 24/50\n",
            "27/27 [==============================] - 0s 5ms/step - loss: 37.5298 - mse: 37.5298 - mae: 4.3577 - val_loss: 68.9872 - val_mse: 68.9872 - val_mae: 5.1033\n",
            "Epoch 25/50\n",
            "27/27 [==============================] - 0s 5ms/step - loss: 36.0565 - mse: 36.0565 - mae: 4.1739 - val_loss: 63.4110 - val_mse: 63.4110 - val_mae: 5.0760\n",
            "Epoch 26/50\n",
            "27/27 [==============================] - 0s 5ms/step - loss: 35.9458 - mse: 35.9458 - mae: 4.1545 - val_loss: 68.1123 - val_mse: 68.1123 - val_mae: 5.0491\n",
            "Epoch 27/50\n",
            "27/27 [==============================] - 0s 7ms/step - loss: 37.1196 - mse: 37.1196 - mae: 4.3095 - val_loss: 58.0281 - val_mse: 58.0281 - val_mae: 5.5814\n",
            "Epoch 28/50\n",
            "27/27 [==============================] - 0s 7ms/step - loss: 35.0560 - mse: 35.0560 - mae: 4.1995 - val_loss: 56.4703 - val_mse: 56.4704 - val_mae: 5.0883\n",
            "Epoch 29/50\n",
            "27/27 [==============================] - 0s 5ms/step - loss: 35.6674 - mse: 35.6674 - mae: 4.2839 - val_loss: 74.0661 - val_mse: 74.0661 - val_mae: 5.4130\n",
            "Epoch 30/50\n",
            "27/27 [==============================] - 0s 7ms/step - loss: 35.5623 - mse: 35.5623 - mae: 4.1340 - val_loss: 55.2945 - val_mse: 55.2945 - val_mae: 5.4455\n",
            "Epoch 31/50\n",
            "27/27 [==============================] - 0s 5ms/step - loss: 34.1529 - mse: 34.1529 - mae: 4.2326 - val_loss: 56.1904 - val_mse: 56.1904 - val_mae: 4.8845\n",
            "Epoch 32/50\n",
            "27/27 [==============================] - 0s 5ms/step - loss: 36.1427 - mse: 36.1427 - mae: 4.3037 - val_loss: 61.9554 - val_mse: 61.9554 - val_mae: 5.0219\n",
            "Epoch 33/50\n",
            "27/27 [==============================] - 0s 6ms/step - loss: 33.2642 - mse: 33.2642 - mae: 4.0438 - val_loss: 58.4174 - val_mse: 58.4174 - val_mae: 4.8033\n",
            "Epoch 34/50\n",
            "27/27 [==============================] - 0s 5ms/step - loss: 31.8948 - mse: 31.8948 - mae: 3.9491 - val_loss: 60.4313 - val_mse: 60.4313 - val_mae: 4.8164\n",
            "Epoch 35/50\n",
            "27/27 [==============================] - 0s 7ms/step - loss: 30.8843 - mse: 30.8843 - mae: 3.9307 - val_loss: 52.2630 - val_mse: 52.2630 - val_mae: 5.1580\n",
            "Epoch 36/50\n",
            "27/27 [==============================] - 0s 5ms/step - loss: 31.0437 - mse: 31.0437 - mae: 3.9256 - val_loss: 57.4694 - val_mse: 57.4694 - val_mae: 6.1532\n",
            "Epoch 37/50\n",
            "27/27 [==============================] - 0s 5ms/step - loss: 33.5573 - mse: 33.5573 - mae: 4.2147 - val_loss: 55.2018 - val_mse: 55.2018 - val_mae: 6.0423\n",
            "Epoch 38/50\n",
            "27/27 [==============================] - 0s 7ms/step - loss: 28.9360 - mse: 28.9360 - mae: 3.8088 - val_loss: 50.5433 - val_mse: 50.5433 - val_mae: 5.0314\n",
            "Epoch 39/50\n",
            "27/27 [==============================] - 0s 6ms/step - loss: 31.4698 - mse: 31.4698 - mae: 4.0441 - val_loss: 52.2085 - val_mse: 52.2085 - val_mae: 4.6512\n",
            "Epoch 40/50\n",
            "27/27 [==============================] - 0s 7ms/step - loss: 28.0600 - mse: 28.0600 - mae: 3.7700 - val_loss: 48.5064 - val_mse: 48.5064 - val_mae: 4.9063\n",
            "Epoch 41/50\n",
            "27/27 [==============================] - 0s 5ms/step - loss: 32.0716 - mse: 32.0716 - mae: 4.2349 - val_loss: 76.6625 - val_mse: 76.6625 - val_mae: 5.7944\n",
            "Epoch 42/50\n",
            "27/27 [==============================] - 0s 5ms/step - loss: 36.5158 - mse: 36.5158 - mae: 4.5118 - val_loss: 60.8264 - val_mse: 60.8264 - val_mae: 4.8867\n",
            "Epoch 43/50\n",
            "27/27 [==============================] - 0s 7ms/step - loss: 25.9352 - mse: 25.9352 - mae: 3.6610 - val_loss: 46.3323 - val_mse: 46.3323 - val_mae: 4.7476\n",
            "Epoch 44/50\n",
            "27/27 [==============================] - 0s 5ms/step - loss: 29.0792 - mse: 29.0792 - mae: 3.9305 - val_loss: 66.9044 - val_mse: 66.9044 - val_mae: 5.2809\n",
            "Epoch 45/50\n",
            "27/27 [==============================] - 0s 5ms/step - loss: 29.9513 - mse: 29.9513 - mae: 3.9389 - val_loss: 51.8226 - val_mse: 51.8226 - val_mae: 4.5772\n",
            "Epoch 46/50\n",
            "27/27 [==============================] - 0s 6ms/step - loss: 28.3000 - mse: 28.3000 - mae: 3.8101 - val_loss: 49.9926 - val_mse: 49.9926 - val_mae: 5.7554\n",
            "Epoch 47/50\n",
            "27/27 [==============================] - 0s 6ms/step - loss: 26.2368 - mse: 26.2368 - mae: 3.7998 - val_loss: 47.2059 - val_mse: 47.2059 - val_mae: 5.4332\n",
            "Epoch 48/50\n",
            "27/27 [==============================] - 0s 6ms/step - loss: 27.8322 - mse: 27.8322 - mae: 3.7863 - val_loss: 58.2189 - val_mse: 58.2189 - val_mae: 4.8239\n",
            "Epoch 49/50\n",
            "27/27 [==============================] - 0s 5ms/step - loss: 27.4598 - mse: 27.4598 - mae: 3.8818 - val_loss: 48.5752 - val_mse: 48.5752 - val_mae: 4.3758\n",
            "Epoch 50/50\n",
            "27/27 [==============================] - 0s 6ms/step - loss: 24.7754 - mse: 24.7754 - mae: 3.6171 - val_loss: 46.6194 - val_mse: 46.6194 - val_mae: 4.7843\n"
          ],
          "name": "stdout"
        },
        {
          "output_type": "execute_result",
          "data": {
            "text/plain": [
              "<tensorflow.python.keras.callbacks.History at 0x7f40cc3377b8>"
            ]
          },
          "metadata": {
            "tags": []
          },
          "execution_count": 19
        }
      ]
    },
    {
      "cell_type": "markdown",
      "metadata": {
        "id": "ed8BWg0Aehe-",
        "colab_type": "text"
      },
      "source": [
        "### Your Turn\n",
        "\n",
        "Pick a few hyparameters that we *have not* tuned. Using the same code above, try changing a few parameters you're interested in and submitting the results to weights & biases. :) "
      ]
    },
    {
      "cell_type": "code",
      "metadata": {
        "id": "hd3mq7Vised2",
        "colab_type": "code",
        "colab": {
          "base_uri": "https://localhost:8080/",
          "height": 530
        },
        "outputId": "771d10c3-da3a-4d71-b72b-d70579fb757d"
      },
      "source": [
        "!pip install keras-tuner"
      ],
      "execution_count": null,
      "outputs": [
        {
          "output_type": "stream",
          "text": [
            "Collecting keras-tuner\n",
            "\u001b[?25l  Downloading https://files.pythonhosted.org/packages/a7/f7/4b41b6832abf4c9bef71a664dc563adb25afc5812831667c6db572b1a261/keras-tuner-1.0.1.tar.gz (54kB)\n",
            "\r\u001b[K     |██████                          | 10kB 18.6MB/s eta 0:00:01\r\u001b[K     |████████████                    | 20kB 1.6MB/s eta 0:00:01\r\u001b[K     |██████████████████              | 30kB 1.9MB/s eta 0:00:01\r\u001b[K     |████████████████████████        | 40kB 2.1MB/s eta 0:00:01\r\u001b[K     |██████████████████████████████  | 51kB 2.0MB/s eta 0:00:01\r\u001b[K     |████████████████████████████████| 61kB 1.9MB/s \n",
            "\u001b[?25hRequirement already satisfied: future in /usr/local/lib/python3.6/dist-packages (from keras-tuner) (0.16.0)\n",
            "Requirement already satisfied: numpy in /usr/local/lib/python3.6/dist-packages (from keras-tuner) (1.18.5)\n",
            "Requirement already satisfied: tabulate in /usr/local/lib/python3.6/dist-packages (from keras-tuner) (0.8.7)\n",
            "Collecting terminaltables\n",
            "  Downloading https://files.pythonhosted.org/packages/9b/c4/4a21174f32f8a7e1104798c445dacdc1d4df86f2f26722767034e4de4bff/terminaltables-3.1.0.tar.gz\n",
            "Collecting colorama\n",
            "  Downloading https://files.pythonhosted.org/packages/c9/dc/45cdef1b4d119eb96316b3117e6d5708a08029992b2fee2c143c7a0a5cc5/colorama-0.4.3-py2.py3-none-any.whl\n",
            "Requirement already satisfied: tqdm in /usr/local/lib/python3.6/dist-packages (from keras-tuner) (4.41.1)\n",
            "Requirement already satisfied: requests in /usr/local/lib/python3.6/dist-packages (from keras-tuner) (2.23.0)\n",
            "Requirement already satisfied: scipy in /usr/local/lib/python3.6/dist-packages (from keras-tuner) (1.4.1)\n",
            "Requirement already satisfied: scikit-learn in /usr/local/lib/python3.6/dist-packages (from keras-tuner) (0.22.2.post1)\n",
            "Requirement already satisfied: idna<3,>=2.5 in /usr/local/lib/python3.6/dist-packages (from requests->keras-tuner) (2.10)\n",
            "Requirement already satisfied: chardet<4,>=3.0.2 in /usr/local/lib/python3.6/dist-packages (from requests->keras-tuner) (3.0.4)\n",
            "Requirement already satisfied: urllib3!=1.25.0,!=1.25.1,<1.26,>=1.21.1 in /usr/local/lib/python3.6/dist-packages (from requests->keras-tuner) (1.24.3)\n",
            "Requirement already satisfied: certifi>=2017.4.17 in /usr/local/lib/python3.6/dist-packages (from requests->keras-tuner) (2020.6.20)\n",
            "Requirement already satisfied: joblib>=0.11 in /usr/local/lib/python3.6/dist-packages (from scikit-learn->keras-tuner) (0.16.0)\n",
            "Building wheels for collected packages: keras-tuner, terminaltables\n",
            "  Building wheel for keras-tuner (setup.py) ... \u001b[?25l\u001b[?25hdone\n",
            "  Created wheel for keras-tuner: filename=keras_tuner-1.0.1-cp36-none-any.whl size=73200 sha256=5736d178d1c526f482b298950f0d79b63244420e8e7365c9b265408ad36f018b\n",
            "  Stored in directory: /root/.cache/pip/wheels/b9/cc/62/52716b70dd90f3db12519233c3a93a5360bc672da1a10ded43\n",
            "  Building wheel for terminaltables (setup.py) ... \u001b[?25l\u001b[?25hdone\n",
            "  Created wheel for terminaltables: filename=terminaltables-3.1.0-cp36-none-any.whl size=15356 sha256=0d9b65999d7241dc8bf26df143ff70a0f2ebfc3c23610a9ecd1a680c80570eed\n",
            "  Stored in directory: /root/.cache/pip/wheels/30/6b/50/6c75775b681fb36cdfac7f19799888ef9d8813aff9e379663e\n",
            "Successfully built keras-tuner terminaltables\n",
            "Installing collected packages: terminaltables, colorama, keras-tuner\n",
            "Successfully installed colorama-0.4.3 keras-tuner-1.0.1 terminaltables-3.1.0\n"
          ],
          "name": "stdout"
        }
      ]
    },
    {
      "cell_type": "code",
      "metadata": {
        "id": "ofiiPgauehe_",
        "colab_type": "code",
        "colab": {
          "base_uri": "https://localhost:8080/",
          "height": 231
        },
        "outputId": "734eb85c-31bb-4fd7-80d7-42ffb9042855"
      },
      "source": [
        "wandb.init(project=wandb_project, entity=wandb_group) #Initializes and Experiment\n",
        "\n",
        "X =  x_train\n",
        "y =  y_train\n",
        "\n",
        "inputs = X.shape[1]\n",
        "\n",
        "wandb.config.epochs = 50\n",
        "wandb.config.batch_size = 10\n",
        "\n",
        "model = Sequential()\n",
        "model.add(Dense(64, activation='relu', input_shape=(inputs,)))\n",
        "model.add(Dense(64, activation='relu'))\n",
        "model.add(Dense(64, activation='relu'))\n",
        "model.add(Dense(64, activation='relu'))\n",
        "model.add(Dense(64, activation='relu'))\n",
        "model.add(Dense(1))\n",
        "\n",
        "model.compile(optimizer='adam', loss='mse', metrics=['mse', 'mae'])\n",
        "# Fit Model\n",
        "model.fit(X, y, \n",
        "          validation_split=0.33, \n",
        "          epochs=wandb.config.epochs, \n",
        "          batch_size=wandb.config.batch_size,\n",
        "          callbacks=[WandbCallback()]\n",
        "         )"
      ],
      "execution_count": null,
      "outputs": [
        {
          "output_type": "error",
          "ename": "NameError",
          "evalue": "ignored",
          "traceback": [
            "\u001b[0;31m---------------------------------------------------------------------------\u001b[0m",
            "\u001b[0;31mNameError\u001b[0m                                 Traceback (most recent call last)",
            "\u001b[0;32m<ipython-input-7-2fab10e8b7e1>\u001b[0m in \u001b[0;36m<module>\u001b[0;34m()\u001b[0m\n\u001b[0;32m----> 1\u001b[0;31m \u001b[0mwandb\u001b[0m\u001b[0;34m.\u001b[0m\u001b[0minit\u001b[0m\u001b[0;34m(\u001b[0m\u001b[0mproject\u001b[0m\u001b[0;34m=\u001b[0m\u001b[0mwandb_project\u001b[0m\u001b[0;34m,\u001b[0m \u001b[0mentity\u001b[0m\u001b[0;34m=\u001b[0m\u001b[0mwandb_group\u001b[0m\u001b[0;34m)\u001b[0m \u001b[0;31m#Initializes and Experiment\u001b[0m\u001b[0;34m\u001b[0m\u001b[0;34m\u001b[0m\u001b[0m\n\u001b[0m\u001b[1;32m      2\u001b[0m \u001b[0;34m\u001b[0m\u001b[0m\n\u001b[1;32m      3\u001b[0m \u001b[0mX\u001b[0m \u001b[0;34m=\u001b[0m  \u001b[0mx_train\u001b[0m\u001b[0;34m\u001b[0m\u001b[0;34m\u001b[0m\u001b[0m\n\u001b[1;32m      4\u001b[0m \u001b[0my\u001b[0m \u001b[0;34m=\u001b[0m  \u001b[0my_train\u001b[0m\u001b[0;34m\u001b[0m\u001b[0;34m\u001b[0m\u001b[0m\n\u001b[1;32m      5\u001b[0m \u001b[0;34m\u001b[0m\u001b[0m\n",
            "\u001b[0;31mNameError\u001b[0m: name 'wandb' is not defined"
          ]
        }
      ]
    },
    {
      "cell_type": "markdown",
      "metadata": {
        "id": "spMSvIpDehfB",
        "colab_type": "text"
      },
      "source": [
        "## Challenge\n",
        "\n",
        "You will be expected to use Weights & Biases to try to tune your model during your module assignment today. "
      ]
    },
    {
      "cell_type": "markdown",
      "metadata": {
        "id": "L6iqpfVZehfB",
        "colab_type": "text"
      },
      "source": [
        "# Hyperparameters with RandomSearchCV (Learn)"
      ]
    },
    {
      "cell_type": "markdown",
      "metadata": {
        "id": "-5eBQnEAehfB",
        "colab_type": "text"
      },
      "source": [
        "## Overview\n",
        "\n",
        "Basically `GridSearchCV` takes forever. You'll want to adopt a slightly more sophiscated strategy.\n",
        "\n",
        "Let's also take a look at an alternative with Keras-Tuner."
      ]
    },
    {
      "cell_type": "code",
      "metadata": {
        "id": "jzL5UF1rehfC",
        "colab_type": "code",
        "colab": {}
      },
      "source": [
        "!pip install keras-tuner"
      ],
      "execution_count": null,
      "outputs": []
    },
    {
      "cell_type": "markdown",
      "metadata": {
        "id": "H2M7gItlehfD",
        "colab_type": "text"
      },
      "source": [
        "## Follow Along"
      ]
    },
    {
      "cell_type": "code",
      "metadata": {
        "id": "k2gNRa7AehfG",
        "colab_type": "code",
        "colab": {}
      },
      "source": [
        "from tensorflow import keras\n",
        "from tensorflow.keras import layers\n",
        "from kerastuner.tuners import RandomSearch\n",
        "\n",
        "\"\"\"\n",
        "This model Tunes:\n",
        "- Number of Neurons in the Hidden Layer\n",
        "- Learning Rate in Adam\n",
        "\n",
        "\"\"\"\n",
        "\n",
        "def build_model(hp):\n",
        "    model = keras.Sequential()\n",
        "    model.add(layers.Dense(units=hp.Int('units',\n",
        "                                        min_value=32,\n",
        "                                        max_value=512,\n",
        "                                        step=32),\n",
        "                           activation='relu'))\n",
        "    model.add(layers.Dense(10))\n",
        "    model.compile(\n",
        "        optimizer=keras.optimizers.Adam(\n",
        "            hp.Choice('learning_rate',\n",
        "                      values=[1e-2, 1e-3, 1e-4])),\n",
        "        loss='mse',\n",
        "        metrics=['mae'])\n",
        "    \n",
        "    return model"
      ],
      "execution_count": null,
      "outputs": []
    },
    {
      "cell_type": "code",
      "metadata": {
        "id": "ZNQFJ7q3ehfI",
        "colab_type": "code",
        "colab": {}
      },
      "source": [
        "tuner = RandomSearch(\n",
        "    build_model,\n",
        "    objective='val_mae',\n",
        "    max_trials=5,\n",
        "    executions_per_trial=3,\n",
        "    directory='./keras-tuner-trial',\n",
        "    project_name='boston_housing')"
      ],
      "execution_count": null,
      "outputs": []
    },
    {
      "cell_type": "code",
      "metadata": {
        "id": "iTeOG-G0ehfK",
        "colab_type": "code",
        "colab": {
          "base_uri": "https://localhost:8080/",
          "height": 281
        },
        "outputId": "449111ff-22fd-4271-8f46-3a01259e5a30"
      },
      "source": [
        "tuner.search_space_summary()"
      ],
      "execution_count": null,
      "outputs": [
        {
          "output_type": "display_data",
          "data": {
            "text/html": [
              "<span style=\"color:#4527A0\"><h1 style=\"font-size:18px\">Search space summary</h1></span>"
            ],
            "text/plain": [
              "<IPython.core.display.HTML object>"
            ]
          },
          "metadata": {
            "tags": []
          }
        },
        {
          "output_type": "display_data",
          "data": {
            "text/html": [
              "<span style=\"color:cyan\"> |-Default search space size: 2</span>"
            ],
            "text/plain": [
              "<IPython.core.display.HTML object>"
            ]
          },
          "metadata": {
            "tags": []
          }
        },
        {
          "output_type": "display_data",
          "data": {
            "text/html": [
              "<span style=\"color:#7E57C2\"><h2 style=\"font-size:16px\">units (Int)</h2></span>"
            ],
            "text/plain": [
              "<IPython.core.display.HTML object>"
            ]
          },
          "metadata": {
            "tags": []
          }
        },
        {
          "output_type": "display_data",
          "data": {
            "text/html": [
              "<span style=\"color:cyan\"> |-default: None</span>"
            ],
            "text/plain": [
              "<IPython.core.display.HTML object>"
            ]
          },
          "metadata": {
            "tags": []
          }
        },
        {
          "output_type": "display_data",
          "data": {
            "text/html": [
              "<span style=\"color:blue\"> |-max_value: 512</span>"
            ],
            "text/plain": [
              "<IPython.core.display.HTML object>"
            ]
          },
          "metadata": {
            "tags": []
          }
        },
        {
          "output_type": "display_data",
          "data": {
            "text/html": [
              "<span style=\"color:cyan\"> |-min_value: 32</span>"
            ],
            "text/plain": [
              "<IPython.core.display.HTML object>"
            ]
          },
          "metadata": {
            "tags": []
          }
        },
        {
          "output_type": "display_data",
          "data": {
            "text/html": [
              "<span style=\"color:blue\"> |-sampling: None</span>"
            ],
            "text/plain": [
              "<IPython.core.display.HTML object>"
            ]
          },
          "metadata": {
            "tags": []
          }
        },
        {
          "output_type": "display_data",
          "data": {
            "text/html": [
              "<span style=\"color:cyan\"> |-step: 32</span>"
            ],
            "text/plain": [
              "<IPython.core.display.HTML object>"
            ]
          },
          "metadata": {
            "tags": []
          }
        },
        {
          "output_type": "display_data",
          "data": {
            "text/html": [
              "<span style=\"color:#7E57C2\"><h2 style=\"font-size:16px\">learning_rate (Choice)</h2></span>"
            ],
            "text/plain": [
              "<IPython.core.display.HTML object>"
            ]
          },
          "metadata": {
            "tags": []
          }
        },
        {
          "output_type": "display_data",
          "data": {
            "text/html": [
              "<span style=\"color:cyan\"> |-default: 0.01</span>"
            ],
            "text/plain": [
              "<IPython.core.display.HTML object>"
            ]
          },
          "metadata": {
            "tags": []
          }
        },
        {
          "output_type": "display_data",
          "data": {
            "text/html": [
              "<span style=\"color:blue\"> |-ordered: True</span>"
            ],
            "text/plain": [
              "<IPython.core.display.HTML object>"
            ]
          },
          "metadata": {
            "tags": []
          }
        },
        {
          "output_type": "display_data",
          "data": {
            "text/html": [
              "<span style=\"color:cyan\"> |-values: [0.01, 0.001, 0.0001]</span>"
            ],
            "text/plain": [
              "<IPython.core.display.HTML object>"
            ]
          },
          "metadata": {
            "tags": []
          }
        }
      ]
    },
    {
      "cell_type": "code",
      "metadata": {
        "id": "q4LKY1qyehfM",
        "colab_type": "code",
        "colab": {
          "base_uri": "https://localhost:8080/",
          "height": 197
        },
        "outputId": "3c5c91a7-1129-46e9-c95f-d106da54dbd3"
      },
      "source": [
        "tuner.search(X, y,\n",
        "             epochs=5,\n",
        "             validation_data=(val_x, val_y))"
      ],
      "execution_count": null,
      "outputs": [
        {
          "output_type": "error",
          "ename": "NameError",
          "evalue": "ignored",
          "traceback": [
            "\u001b[0;31m---------------------------------------------------------------------------\u001b[0m",
            "\u001b[0;31mNameError\u001b[0m                                 Traceback (most recent call last)",
            "\u001b[0;32m<ipython-input-6-0ed2a5502c70>\u001b[0m in \u001b[0;36m<module>\u001b[0;34m()\u001b[0m\n\u001b[0;32m----> 1\u001b[0;31m tuner.search(X, y,\n\u001b[0m\u001b[1;32m      2\u001b[0m              \u001b[0mepochs\u001b[0m\u001b[0;34m=\u001b[0m\u001b[0;36m5\u001b[0m\u001b[0;34m,\u001b[0m\u001b[0;34m\u001b[0m\u001b[0;34m\u001b[0m\u001b[0m\n\u001b[1;32m      3\u001b[0m              validation_data=(val_x, val_y))\n",
            "\u001b[0;31mNameError\u001b[0m: name 'X' is not defined"
          ]
        }
      ]
    },
    {
      "cell_type": "code",
      "metadata": {
        "id": "zcShoXJSehfO",
        "colab_type": "code",
        "colab": {}
      },
      "source": [
        "tuner.results_summary()"
      ],
      "execution_count": null,
      "outputs": []
    },
    {
      "cell_type": "markdown",
      "metadata": {
        "id": "4Bhf1clUehfP",
        "colab_type": "text"
      },
      "source": [
        "## Challenge\n",
        "\n",
        "Try to apply RandomSearchCV to your module project today. "
      ]
    },
    {
      "cell_type": "markdown",
      "metadata": {
        "id": "oZIcqoESehfQ",
        "colab_type": "text"
      },
      "source": [
        "# Review\n",
        "* <a href=\"#p1\">Part 1</a>: Describe the major hyperparemeters to tune\n",
        "    - Activation Functions\n",
        "    - Optimizer\n",
        "    - Number of Layers\n",
        "    - Number of Neurons\n",
        "    - Batch Size\n",
        "    - Dropout Regulaization\n",
        "    - Learning Rate\n",
        "    - Number of Epochs\n",
        "    - and many more\n",
        "* <a href=\"#p2\">Part 2</a>: Implement an experiment tracking framework\n",
        "    - Weights & Biases\n",
        "    - Comet.ml\n",
        "    - By Hand / GridSearch\n",
        "* <a href=\"#p3\">Part 3</a>: Search the hyperparameter space using RandomSearch\n",
        "    - Sklearn still useful (haha)\n",
        "    - Integration with Wieghts & Biases\n",
        "* <a href=\"#p4\">Part 4</a>: Discuss emerging hyperparameter tuning strategies\n",
        "    - Bayesian Optimization\n",
        "    - Hyperopt\n",
        "    - Genetic Evolution"
      ]
    },
    {
      "cell_type": "markdown",
      "metadata": {
        "id": "XbUnKR2cehfQ",
        "colab_type": "text"
      },
      "source": [
        "# Sources"
      ]
    },
    {
      "cell_type": "markdown",
      "metadata": {
        "id": "pHRaKnCAehfQ",
        "colab_type": "text"
      },
      "source": [
        "## Additional Reading\n",
        "- https://machinelearningmastery.com/grid-search-hyperparameters-deep-learning-models-python-keras/\n",
        "- https://blog.floydhub.com/guide-to-hyperparameters-search-for-deep-learning-models/\n",
        "- https://machinelearningmastery.com/dropout-regularization-deep-learning-models-keras/\n",
        "- https://machinelearningmastery.com/introduction-to-weight-constraints-to-reduce-generalization-error-in-deep-learning/\n",
        "- https://machinelearningmastery.com/how-to-configure-the-number-of-layers-and-nodes-in-a-neural-network/"
      ]
    }
  ]
}